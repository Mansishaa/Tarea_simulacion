{
 "cells": [
  {
   "cell_type": "markdown",
   "metadata": {
    "id": "9q8HmedB_CN8"
   },
   "source": [
    "# A simple game as an example\n",
    "\n",
    "According to WIKIPEDIA, the game Rock, Paper, Scissors is a simultaneous, zero-sum game, with three possible outcomes: a draw, a win, or a loss:\n",
    "\n",
    "* A player who decides to play **ROCK** will beat another player who chooses **SCISSORS** (\"rock crushes scissors\" or \"breaks scissors\")\n",
    "* A player who decides to play **ROCK**  will lose to one who has played **PAPER** (\"paper covers rock\").\n",
    "* A player who decides to play **PAPER** will lose to a play of **SCISSORS** (\"scissors cuts paper\").\n",
    "* If both players choose the same shape, the game is tied.\n",
    "\n",
    "Let´s represent the game:\n",
    "\n",
    "## Strategies\n",
    "\n",
    "Strategies are the options available:"
   ]
  },
  {
   "cell_type": "code",
   "execution_count": 142,
   "metadata": {
    "id": "fm845pCH_CN9"
   },
   "outputs": [],
   "source": [
    "strategies=['Rock','Paper','Scissors']"
   ]
  },
  {
   "cell_type": "markdown",
   "metadata": {
    "id": "ISjHpRRu_CN-"
   },
   "source": [
    "## Rules\n",
    "\n",
    "The rules tell you that according to a strategy followed, players get a pay-off:"
   ]
  },
  {
   "cell_type": "code",
   "execution_count": 145,
   "metadata": {
    "id": "PB3VqT9W_CN-"
   },
   "outputs": [],
   "source": [
    "payoff={('Rock','Paper'):(0,1),\n",
    "        ('Paper','Rock'):(1,0),\n",
    "        ('Rock','Scissors'):(1,0),\n",
    "        ('Scissors','Rock'):(0,1),\n",
    "        ('Paper','Scissors'):(0,1),\n",
    "        ('Scissors','Paper'):(1,0),\n",
    "        ('Rock','Rock'):(0,0),\n",
    "        ('Paper','Paper'):(0,0),\n",
    "        ('Scissors','Scissors'):(0,0)}"
   ]
  },
  {
   "cell_type": "markdown",
   "metadata": {
    "id": "Pm2Z5tjw_CN_"
   },
   "source": [
    "## Creating and setting up agents:\n",
    "\n",
    "Players have a name, but have no score, and no strategy yet."
   ]
  },
  {
   "cell_type": "code",
   "execution_count": 148,
   "metadata": {
    "id": "b1Ol8rU5_CN_"
   },
   "outputs": [],
   "source": [
    "Players=[{'name':'John','score':0,'strategy':None},\n",
    "         {'name':'Mary','score':0,'strategy':None}]"
   ]
  },
  {
   "cell_type": "markdown",
   "metadata": {
    "id": "43Gv1kRP_CN_"
   },
   "source": [
    "## Decision making process\n",
    "\n",
    "This is the process to choose an strategy: \n",
    "Esto podría tener un montón de líneas, pero se eligen al azar. Esta es la mejor estrategia (el azar) en esta simulación de elegir piedra, papel o tigeras. Sin embargo, podríamos asignar las probabilidades para ganar sobre cada situación. "
   ]
  },
  {
   "cell_type": "code",
   "execution_count": 151,
   "metadata": {
    "id": "bBwMGruW_CN_"
   },
   "outputs": [],
   "source": [
    "from random import choice\n",
    "\n",
    "#simplest strategy: choose randomly\n",
    "choice(strategies);"
   ]
  },
  {
   "cell_type": "markdown",
   "metadata": {
    "id": "LFh0aw64_COA"
   },
   "source": [
    "## The moment of truth"
   ]
  },
  {
   "cell_type": "markdown",
   "metadata": {
    "id": "chBgz1nT_COA"
   },
   "source": [
    "* ### agent decide strategy"
   ]
  },
  {
   "cell_type": "code",
   "execution_count": 155,
   "metadata": {
    "id": "YG-SYxZx_COA"
   },
   "outputs": [],
   "source": [
    "Players[0]['strategy']=choice(strategies)\n",
    "Players[1]['strategy']=choice(strategies)"
   ]
  },
  {
   "cell_type": "markdown",
   "metadata": {
    "id": "0g0_9Zm9_COA"
   },
   "source": [
    "* ### decisions made"
   ]
  },
  {
   "cell_type": "code",
   "execution_count": 158,
   "metadata": {
    "id": "HkMjlahz_COB"
   },
   "outputs": [
    {
     "data": {
      "text/plain": [
       "('Scissors', 'Scissors')"
      ]
     },
     "execution_count": 158,
     "metadata": {},
     "output_type": "execute_result"
    }
   ],
   "source": [
    "Players[0]['strategy'],Players[1]['strategy']"
   ]
  },
  {
   "cell_type": "code",
   "execution_count": 160,
   "metadata": {
    "id": "fHQgkMyH_COB"
   },
   "outputs": [
    {
     "data": {
      "text/plain": [
       "(0, 0)"
      ]
     },
     "execution_count": 160,
     "metadata": {},
     "output_type": "execute_result"
    }
   ],
   "source": [
    "# social result of individual decision\n",
    "result = payoff[Players[0]['strategy'],Players[1]['strategy']]\n",
    "result"
   ]
  },
  {
   "cell_type": "markdown",
   "metadata": {},
   "source": [
    "Este es el jugador qquien gana"
   ]
  },
  {
   "cell_type": "markdown",
   "metadata": {
    "id": "_3OEEGsc_COB"
   },
   "source": [
    "* ### agent benefits/suffers from decision made"
   ]
  },
  {
   "cell_type": "code",
   "execution_count": 164,
   "metadata": {
    "id": "bkXDhVC5_COB"
   },
   "outputs": [],
   "source": [
    "# update agents situation\n",
    "Players[0]['score']+=result[0]\n",
    "Players[1]['score']+=result[1]"
   ]
  },
  {
   "cell_type": "code",
   "execution_count": 166,
   "metadata": {
    "id": "rmVGKtfn_COB"
   },
   "outputs": [
    {
     "data": {
      "text/plain": [
       "[{'name': 'John', 'score': 0, 'strategy': 'Scissors'},\n",
       " {'name': 'Mary', 'score': 0, 'strategy': 'Scissors'}]"
      ]
     },
     "execution_count": 166,
     "metadata": {},
     "output_type": "execute_result"
    }
   ],
   "source": [
    "# current agent situation\n",
    "Players"
   ]
  },
  {
   "cell_type": "markdown",
   "metadata": {},
   "source": [
    "Situación de elos agentes. Es la última decisión de cada uno. Puedes guardar los recuerdos y las veces que ganaste. "
   ]
  },
  {
   "cell_type": "markdown",
   "metadata": {
    "id": "m7XyzWI5_COB"
   },
   "source": [
    "* ### social outcome"
   ]
  },
  {
   "cell_type": "code",
   "execution_count": 170,
   "metadata": {
    "id": "66lrZv8s_COC"
   },
   "outputs": [
    {
     "data": {
      "text/html": [
       "<div>\n",
       "<style scoped>\n",
       "    .dataframe tbody tr th:only-of-type {\n",
       "        vertical-align: middle;\n",
       "    }\n",
       "\n",
       "    .dataframe tbody tr th {\n",
       "        vertical-align: top;\n",
       "    }\n",
       "\n",
       "    .dataframe thead th {\n",
       "        text-align: right;\n",
       "    }\n",
       "</style>\n",
       "<table border=\"1\" class=\"dataframe\">\n",
       "  <thead>\n",
       "    <tr style=\"text-align: right;\">\n",
       "      <th></th>\n",
       "      <th>name</th>\n",
       "      <th>score</th>\n",
       "      <th>strategy</th>\n",
       "    </tr>\n",
       "  </thead>\n",
       "  <tbody>\n",
       "    <tr>\n",
       "      <th>0</th>\n",
       "      <td>John</td>\n",
       "      <td>0</td>\n",
       "      <td>Scissors</td>\n",
       "    </tr>\n",
       "    <tr>\n",
       "      <th>1</th>\n",
       "      <td>Mary</td>\n",
       "      <td>0</td>\n",
       "      <td>Scissors</td>\n",
       "    </tr>\n",
       "  </tbody>\n",
       "</table>\n",
       "</div>"
      ],
      "text/plain": [
       "   name  score  strategy\n",
       "0  John      0  Scissors\n",
       "1  Mary      0  Scissors"
      ]
     },
     "execution_count": 170,
     "metadata": {},
     "output_type": "execute_result"
    }
   ],
   "source": [
    "import pandas as pd\n",
    "\n",
    "socialResults=pd.DataFrame((Players[0], Players[1]))\n",
    "socialResults"
   ]
  },
  {
   "cell_type": "markdown",
   "metadata": {},
   "source": [
    "Es otra forma de ver los resultados."
   ]
  },
  {
   "cell_type": "code",
   "execution_count": 173,
   "metadata": {
    "id": "zntCim9z_COC"
   },
   "outputs": [
    {
     "data": {
      "text/html": [
       "<div>\n",
       "<style scoped>\n",
       "    .dataframe tbody tr th:only-of-type {\n",
       "        vertical-align: middle;\n",
       "    }\n",
       "\n",
       "    .dataframe tbody tr th {\n",
       "        vertical-align: top;\n",
       "    }\n",
       "\n",
       "    .dataframe thead th {\n",
       "        text-align: right;\n",
       "    }\n",
       "</style>\n",
       "<table border=\"1\" class=\"dataframe\">\n",
       "  <thead>\n",
       "    <tr style=\"text-align: right;\">\n",
       "      <th></th>\n",
       "      <th>name</th>\n",
       "      <th>score</th>\n",
       "      <th>strategy</th>\n",
       "    </tr>\n",
       "  </thead>\n",
       "  <tbody>\n",
       "    <tr>\n",
       "      <th>0</th>\n",
       "      <td>John</td>\n",
       "      <td>0</td>\n",
       "      <td>Scissors</td>\n",
       "    </tr>\n",
       "    <tr>\n",
       "      <th>1</th>\n",
       "      <td>Mary</td>\n",
       "      <td>0</td>\n",
       "      <td>Scissors</td>\n",
       "    </tr>\n",
       "  </tbody>\n",
       "</table>\n",
       "</div>"
      ],
      "text/plain": [
       "   name  score  strategy\n",
       "0  John      0  Scissors\n",
       "1  Mary      0  Scissors"
      ]
     },
     "execution_count": 173,
     "metadata": {},
     "output_type": "execute_result"
    }
   ],
   "source": [
    "winnerScore=socialResults.score.max()\n",
    "\n",
    "#social outcome\n",
    "socialResults[socialResults.score==winnerScore]"
   ]
  },
  {
   "cell_type": "code",
   "execution_count": null,
   "metadata": {},
   "outputs": [],
   "source": []
  },
  {
   "cell_type": "markdown",
   "metadata": {
    "id": "YZKPSjHL_COC"
   },
   "source": [
    "# More players"
   ]
  },
  {
   "cell_type": "code",
   "execution_count": 177,
   "metadata": {
    "id": "PPmoPuAL_COC"
   },
   "outputs": [],
   "source": [
    "# names of players\n",
    "names=['Jim','Jane','Peter','Zoe']"
   ]
  },
  {
   "cell_type": "markdown",
   "metadata": {},
   "source": [
    "Con esto creamos una sociedad:"
   ]
  },
  {
   "cell_type": "code",
   "execution_count": 180,
   "metadata": {
    "id": "1cNflkqj_COC"
   },
   "outputs": [],
   "source": [
    "# setting up players\n",
    "society=[{'name':n,'score':0,'strategy':None} for n in names]"
   ]
  },
  {
   "cell_type": "code",
   "execution_count": 182,
   "metadata": {
    "id": "70hFQV0D_COC"
   },
   "outputs": [
    {
     "data": {
      "text/plain": [
       "[{'name': 'Jim', 'score': 0, 'strategy': None},\n",
       " {'name': 'Jane', 'score': 0, 'strategy': None},\n",
       " {'name': 'Peter', 'score': 0, 'strategy': None},\n",
       " {'name': 'Zoe', 'score': 0, 'strategy': None}]"
      ]
     },
     "execution_count": 182,
     "metadata": {},
     "output_type": "execute_result"
    }
   ],
   "source": [
    "# each player a dict:\n",
    "society"
   ]
  },
  {
   "cell_type": "markdown",
   "metadata": {},
   "source": [
    "Cada quien con score"
   ]
  },
  {
   "cell_type": "code",
   "execution_count": 185,
   "metadata": {
    "id": "aqFCtU2D_COC"
   },
   "outputs": [
    {
     "name": "stdout",
     "output_type": "stream",
     "text": [
      "({'name': 'Jim', 'score': 0, 'strategy': None}, {'name': 'Jane', 'score': 0, 'strategy': None})\n",
      "({'name': 'Jim', 'score': 0, 'strategy': None}, {'name': 'Peter', 'score': 0, 'strategy': None})\n",
      "({'name': 'Jim', 'score': 0, 'strategy': None}, {'name': 'Zoe', 'score': 0, 'strategy': None})\n",
      "({'name': 'Jane', 'score': 0, 'strategy': None}, {'name': 'Peter', 'score': 0, 'strategy': None})\n",
      "({'name': 'Jane', 'score': 0, 'strategy': None}, {'name': 'Zoe', 'score': 0, 'strategy': None})\n",
      "({'name': 'Peter', 'score': 0, 'strategy': None}, {'name': 'Zoe', 'score': 0, 'strategy': None})\n"
     ]
    }
   ],
   "source": [
    "import itertools\n",
    "\n",
    "# pair is a tuple of dicts\n",
    "for pair in itertools.combinations(society,2):\n",
    "    print(pair)"
   ]
  },
  {
   "cell_type": "markdown",
   "metadata": {},
   "source": [
    "Esto son todos los pares que habrán, jugarán todos contra todos."
   ]
  },
  {
   "cell_type": "code",
   "execution_count": 188,
   "metadata": {
    "id": "cFvBplMV_COC"
   },
   "outputs": [
    {
     "name": "stdout",
     "output_type": "stream",
     "text": [
      "{'name': 'Jim', 'score': 0, 'strategy': None} {'name': 'Jane', 'score': 0, 'strategy': None}\n",
      "{'name': 'Jim', 'score': 0, 'strategy': None} {'name': 'Peter', 'score': 0, 'strategy': None}\n",
      "{'name': 'Jim', 'score': 0, 'strategy': None} {'name': 'Zoe', 'score': 0, 'strategy': None}\n",
      "{'name': 'Jane', 'score': 0, 'strategy': None} {'name': 'Peter', 'score': 0, 'strategy': None}\n",
      "{'name': 'Jane', 'score': 0, 'strategy': None} {'name': 'Zoe', 'score': 0, 'strategy': None}\n",
      "{'name': 'Peter', 'score': 0, 'strategy': None} {'name': 'Zoe', 'score': 0, 'strategy': None}\n"
     ]
    }
   ],
   "source": [
    "import itertools\n",
    "\n",
    "# each dict\n",
    "for player1,player2 in itertools.combinations(society,2):\n",
    "    print(player1,player2)"
   ]
  },
  {
   "cell_type": "code",
   "execution_count": 190,
   "metadata": {
    "id": "-xtyPc-5_COC"
   },
   "outputs": [],
   "source": [
    "# resetting society\n",
    "society=[{'name':n,'score':0,'strategy':None} for n in names]\n",
    "\n",
    "# several rounds\n",
    "for aRound in range(100):\n",
    "    \n",
    "    # en each round:\n",
    "    for player1,player2 in itertools.combinations(society,2):\n",
    "        # each chooses strategy\n",
    "        player1['strategy']=choice(strategies)\n",
    "        \n",
    "        player2['strategy']=choice(strategies)\n",
    "        \n",
    "        # result from strategy chosen\n",
    "        result=payoff[player1['strategy'],player2['strategy']]\n",
    "            \n",
    "        # update scores\n",
    "        player1['score']+=result[0]\n",
    "        player2['score']+=result[1]\n",
    "    "
   ]
  },
  {
   "cell_type": "markdown",
   "metadata": {},
   "source": [
    "Hago que jueguen 100 veces."
   ]
  },
  {
   "cell_type": "code",
   "execution_count": 193,
   "metadata": {
    "id": "AtT2diWE_COD"
   },
   "outputs": [
    {
     "data": {
      "text/plain": [
       "[{'name': 'Jim', 'score': 97, 'strategy': 'Paper'},\n",
       " {'name': 'Jane', 'score': 94, 'strategy': 'Rock'},\n",
       " {'name': 'Peter', 'score': 119, 'strategy': 'Rock'},\n",
       " {'name': 'Zoe', 'score': 114, 'strategy': 'Scissors'}]"
      ]
     },
     "execution_count": 193,
     "metadata": {},
     "output_type": "execute_result"
    }
   ],
   "source": [
    "# final situation\n",
    "society"
   ]
  },
  {
   "cell_type": "markdown",
   "metadata": {},
   "source": [
    "Resultado final y lo mandaamos al df"
   ]
  },
  {
   "cell_type": "code",
   "execution_count": 196,
   "metadata": {
    "id": "rVcFgFF4_COD"
   },
   "outputs": [
    {
     "data": {
      "text/html": [
       "<div>\n",
       "<style scoped>\n",
       "    .dataframe tbody tr th:only-of-type {\n",
       "        vertical-align: middle;\n",
       "    }\n",
       "\n",
       "    .dataframe tbody tr th {\n",
       "        vertical-align: top;\n",
       "    }\n",
       "\n",
       "    .dataframe thead th {\n",
       "        text-align: right;\n",
       "    }\n",
       "</style>\n",
       "<table border=\"1\" class=\"dataframe\">\n",
       "  <thead>\n",
       "    <tr style=\"text-align: right;\">\n",
       "      <th></th>\n",
       "      <th>name</th>\n",
       "      <th>score</th>\n",
       "      <th>strategy</th>\n",
       "    </tr>\n",
       "  </thead>\n",
       "  <tbody>\n",
       "    <tr>\n",
       "      <th>0</th>\n",
       "      <td>Jim</td>\n",
       "      <td>97</td>\n",
       "      <td>Paper</td>\n",
       "    </tr>\n",
       "    <tr>\n",
       "      <th>1</th>\n",
       "      <td>Jane</td>\n",
       "      <td>94</td>\n",
       "      <td>Rock</td>\n",
       "    </tr>\n",
       "    <tr>\n",
       "      <th>2</th>\n",
       "      <td>Peter</td>\n",
       "      <td>119</td>\n",
       "      <td>Rock</td>\n",
       "    </tr>\n",
       "    <tr>\n",
       "      <th>3</th>\n",
       "      <td>Zoe</td>\n",
       "      <td>114</td>\n",
       "      <td>Scissors</td>\n",
       "    </tr>\n",
       "  </tbody>\n",
       "</table>\n",
       "</div>"
      ],
      "text/plain": [
       "    name  score  strategy\n",
       "0    Jim     97     Paper\n",
       "1   Jane     94      Rock\n",
       "2  Peter    119      Rock\n",
       "3    Zoe    114  Scissors"
      ]
     },
     "execution_count": 196,
     "metadata": {},
     "output_type": "execute_result"
    }
   ],
   "source": [
    "# as a data frame\n",
    "socialResults=pd.DataFrame(society)\n",
    "socialResults"
   ]
  },
  {
   "cell_type": "markdown",
   "metadata": {},
   "source": [
    "Quién ganó y qué se hizo más."
   ]
  },
  {
   "cell_type": "code",
   "execution_count": 199,
   "metadata": {
    "id": "ttej-ElI_COD"
   },
   "outputs": [
    {
     "data": {
      "text/html": [
       "<div>\n",
       "<style scoped>\n",
       "    .dataframe tbody tr th:only-of-type {\n",
       "        vertical-align: middle;\n",
       "    }\n",
       "\n",
       "    .dataframe tbody tr th {\n",
       "        vertical-align: top;\n",
       "    }\n",
       "\n",
       "    .dataframe thead th {\n",
       "        text-align: right;\n",
       "    }\n",
       "</style>\n",
       "<table border=\"1\" class=\"dataframe\">\n",
       "  <thead>\n",
       "    <tr style=\"text-align: right;\">\n",
       "      <th></th>\n",
       "      <th>name</th>\n",
       "      <th>score</th>\n",
       "      <th>strategy</th>\n",
       "    </tr>\n",
       "  </thead>\n",
       "  <tbody>\n",
       "    <tr>\n",
       "      <th>2</th>\n",
       "      <td>Peter</td>\n",
       "      <td>119</td>\n",
       "      <td>Rock</td>\n",
       "    </tr>\n",
       "  </tbody>\n",
       "</table>\n",
       "</div>"
      ],
      "text/plain": [
       "    name  score strategy\n",
       "2  Peter    119     Rock"
      ]
     },
     "execution_count": 199,
     "metadata": {},
     "output_type": "execute_result"
    }
   ],
   "source": [
    "winnerScore=socialResults.score.max()\n",
    "\n",
    "#social outcome\n",
    "socialResults[socialResults.score==winnerScore]"
   ]
  },
  {
   "cell_type": "markdown",
   "metadata": {
    "id": "9HxDch0n_COD"
   },
   "source": [
    "### Exercise 1\n",
    "<div class=\"alert-success\">\n",
    "\n",
    "What code would you add  to see the live the results of this last tournament?\n",
    "    \n",
    "</div>"
   ]
  },
  {
   "cell_type": "code",
   "execution_count": 208,
   "metadata": {},
   "outputs": [
    {
     "name": "stdout",
     "output_type": "stream",
     "text": [
      "Jim (Rock) vs Jane (Rock) => Draw\n",
      "Jim (Rock) vs Peter (Paper) => Winner: Peter\n",
      "Jim (Paper) vs Zoe (Scissors) => Winner: Zoe\n",
      "Jane (Paper) vs Peter (Paper) => Draw\n",
      "Jane (Rock) vs Zoe (Rock) => Draw\n",
      "Peter (Paper) vs Zoe (Paper) => Draw\n",
      "Jim (Paper) vs Jane (Rock) => Winner: Jim\n",
      "Jim (Rock) vs Peter (Paper) => Winner: Peter\n",
      "Jim (Paper) vs Zoe (Rock) => Winner: Jim\n",
      "Jane (Paper) vs Peter (Paper) => Draw\n",
      "Jane (Scissors) vs Zoe (Scissors) => Draw\n",
      "Peter (Rock) vs Zoe (Paper) => Winner: Zoe\n",
      "Jim (Scissors) vs Jane (Rock) => Winner: Jane\n",
      "Jim (Paper) vs Peter (Paper) => Draw\n",
      "Jim (Scissors) vs Zoe (Rock) => Winner: Zoe\n",
      "Jane (Rock) vs Peter (Paper) => Winner: Peter\n",
      "Jane (Scissors) vs Zoe (Paper) => Winner: Jane\n",
      "Peter (Rock) vs Zoe (Paper) => Winner: Zoe\n",
      "Jim (Rock) vs Jane (Paper) => Winner: Jane\n",
      "Jim (Paper) vs Peter (Rock) => Winner: Jim\n",
      "Jim (Paper) vs Zoe (Paper) => Draw\n",
      "Jane (Paper) vs Peter (Scissors) => Winner: Peter\n",
      "Jane (Scissors) vs Zoe (Paper) => Winner: Jane\n",
      "Peter (Paper) vs Zoe (Scissors) => Winner: Zoe\n",
      "Jim (Scissors) vs Jane (Rock) => Winner: Jane\n",
      "Jim (Scissors) vs Peter (Paper) => Winner: Jim\n",
      "Jim (Rock) vs Zoe (Rock) => Draw\n",
      "Jane (Paper) vs Peter (Paper) => Draw\n",
      "Jane (Paper) vs Zoe (Rock) => Winner: Jane\n",
      "Peter (Scissors) vs Zoe (Paper) => Winner: Peter\n",
      "Jim (Rock) vs Jane (Paper) => Winner: Jane\n",
      "Jim (Paper) vs Peter (Rock) => Winner: Jim\n",
      "Jim (Scissors) vs Zoe (Rock) => Winner: Zoe\n",
      "Jane (Rock) vs Peter (Paper) => Winner: Peter\n",
      "Jane (Scissors) vs Zoe (Rock) => Winner: Zoe\n",
      "Peter (Scissors) vs Zoe (Scissors) => Draw\n",
      "Jim (Paper) vs Jane (Scissors) => Winner: Jane\n",
      "Jim (Scissors) vs Peter (Scissors) => Draw\n",
      "Jim (Scissors) vs Zoe (Paper) => Winner: Jim\n",
      "Jane (Scissors) vs Peter (Paper) => Winner: Jane\n",
      "Jane (Paper) vs Zoe (Scissors) => Winner: Zoe\n",
      "Peter (Paper) vs Zoe (Rock) => Winner: Peter\n",
      "Jim (Paper) vs Jane (Rock) => Winner: Jim\n",
      "Jim (Paper) vs Peter (Paper) => Draw\n",
      "Jim (Scissors) vs Zoe (Rock) => Winner: Zoe\n",
      "Jane (Rock) vs Peter (Rock) => Draw\n",
      "Jane (Rock) vs Zoe (Paper) => Winner: Zoe\n",
      "Peter (Paper) vs Zoe (Rock) => Winner: Peter\n",
      "Jim (Scissors) vs Jane (Scissors) => Draw\n",
      "Jim (Rock) vs Peter (Rock) => Draw\n",
      "Jim (Rock) vs Zoe (Rock) => Draw\n",
      "Jane (Scissors) vs Peter (Scissors) => Draw\n",
      "Jane (Scissors) vs Zoe (Paper) => Winner: Jane\n",
      "Peter (Rock) vs Zoe (Scissors) => Winner: Peter\n",
      "Jim (Scissors) vs Jane (Rock) => Winner: Jane\n",
      "Jim (Scissors) vs Peter (Scissors) => Draw\n",
      "Jim (Paper) vs Zoe (Rock) => Winner: Jim\n",
      "Jane (Rock) vs Peter (Paper) => Winner: Peter\n",
      "Jane (Paper) vs Zoe (Scissors) => Winner: Zoe\n",
      "Peter (Paper) vs Zoe (Rock) => Winner: Peter\n",
      "Jim (Rock) vs Jane (Paper) => Winner: Jane\n",
      "Jim (Rock) vs Peter (Rock) => Draw\n",
      "Jim (Paper) vs Zoe (Paper) => Draw\n",
      "Jane (Scissors) vs Peter (Rock) => Winner: Peter\n",
      "Jane (Scissors) vs Zoe (Scissors) => Draw\n",
      "Peter (Scissors) vs Zoe (Paper) => Winner: Peter\n",
      "Jim (Paper) vs Jane (Paper) => Draw\n",
      "Jim (Scissors) vs Peter (Rock) => Winner: Peter\n",
      "Jim (Scissors) vs Zoe (Paper) => Winner: Jim\n",
      "Jane (Paper) vs Peter (Scissors) => Winner: Peter\n",
      "Jane (Paper) vs Zoe (Scissors) => Winner: Zoe\n",
      "Peter (Rock) vs Zoe (Rock) => Draw\n",
      "Jim (Rock) vs Jane (Paper) => Winner: Jane\n",
      "Jim (Scissors) vs Peter (Paper) => Winner: Jim\n",
      "Jim (Rock) vs Zoe (Rock) => Draw\n",
      "Jane (Paper) vs Peter (Paper) => Draw\n",
      "Jane (Rock) vs Zoe (Rock) => Draw\n",
      "Peter (Scissors) vs Zoe (Scissors) => Draw\n",
      "Jim (Paper) vs Jane (Rock) => Winner: Jim\n",
      "Jim (Scissors) vs Peter (Scissors) => Draw\n",
      "Jim (Scissors) vs Zoe (Scissors) => Draw\n",
      "Jane (Rock) vs Peter (Paper) => Winner: Peter\n",
      "Jane (Rock) vs Zoe (Paper) => Winner: Zoe\n",
      "Peter (Paper) vs Zoe (Scissors) => Winner: Zoe\n",
      "Jim (Scissors) vs Jane (Paper) => Winner: Jim\n",
      "Jim (Rock) vs Peter (Scissors) => Winner: Jim\n",
      "Jim (Paper) vs Zoe (Scissors) => Winner: Zoe\n",
      "Jane (Scissors) vs Peter (Scissors) => Draw\n",
      "Jane (Paper) vs Zoe (Rock) => Winner: Jane\n",
      "Peter (Scissors) vs Zoe (Paper) => Winner: Peter\n",
      "Jim (Paper) vs Jane (Rock) => Winner: Jim\n",
      "Jim (Paper) vs Peter (Rock) => Winner: Jim\n",
      "Jim (Scissors) vs Zoe (Rock) => Winner: Zoe\n",
      "Jane (Paper) vs Peter (Paper) => Draw\n",
      "Jane (Paper) vs Zoe (Rock) => Winner: Jane\n",
      "Peter (Scissors) vs Zoe (Scissors) => Draw\n",
      "Jim (Paper) vs Jane (Rock) => Winner: Jim\n",
      "Jim (Scissors) vs Peter (Paper) => Winner: Jim\n",
      "Jim (Paper) vs Zoe (Rock) => Winner: Jim\n",
      "Jane (Paper) vs Peter (Rock) => Winner: Jane\n",
      "Jane (Paper) vs Zoe (Scissors) => Winner: Zoe\n",
      "Peter (Scissors) vs Zoe (Paper) => Winner: Peter\n",
      "Jim (Scissors) vs Jane (Paper) => Winner: Jim\n",
      "Jim (Paper) vs Peter (Paper) => Draw\n",
      "Jim (Scissors) vs Zoe (Rock) => Winner: Zoe\n",
      "Jane (Paper) vs Peter (Scissors) => Winner: Peter\n",
      "Jane (Scissors) vs Zoe (Scissors) => Draw\n",
      "Peter (Rock) vs Zoe (Paper) => Winner: Zoe\n",
      "Jim (Scissors) vs Jane (Scissors) => Draw\n",
      "Jim (Paper) vs Peter (Paper) => Draw\n",
      "Jim (Paper) vs Zoe (Rock) => Winner: Jim\n",
      "Jane (Paper) vs Peter (Scissors) => Winner: Peter\n",
      "Jane (Rock) vs Zoe (Paper) => Winner: Zoe\n",
      "Peter (Paper) vs Zoe (Scissors) => Winner: Zoe\n",
      "Jim (Rock) vs Jane (Paper) => Winner: Jane\n",
      "Jim (Paper) vs Peter (Rock) => Winner: Jim\n",
      "Jim (Scissors) vs Zoe (Scissors) => Draw\n",
      "Jane (Scissors) vs Peter (Scissors) => Draw\n",
      "Jane (Paper) vs Zoe (Scissors) => Winner: Zoe\n",
      "Peter (Rock) vs Zoe (Scissors) => Winner: Peter\n",
      "Jim (Paper) vs Jane (Paper) => Draw\n",
      "Jim (Scissors) vs Peter (Scissors) => Draw\n",
      "Jim (Rock) vs Zoe (Scissors) => Winner: Jim\n",
      "Jane (Rock) vs Peter (Scissors) => Winner: Jane\n",
      "Jane (Paper) vs Zoe (Rock) => Winner: Jane\n",
      "Peter (Scissors) vs Zoe (Paper) => Winner: Peter\n",
      "Jim (Scissors) vs Jane (Paper) => Winner: Jim\n",
      "Jim (Rock) vs Peter (Scissors) => Winner: Jim\n",
      "Jim (Scissors) vs Zoe (Scissors) => Draw\n",
      "Jane (Paper) vs Peter (Paper) => Draw\n",
      "Jane (Scissors) vs Zoe (Rock) => Winner: Zoe\n",
      "Peter (Scissors) vs Zoe (Scissors) => Draw\n",
      "Jim (Scissors) vs Jane (Scissors) => Draw\n",
      "Jim (Rock) vs Peter (Paper) => Winner: Peter\n",
      "Jim (Scissors) vs Zoe (Scissors) => Draw\n",
      "Jane (Scissors) vs Peter (Rock) => Winner: Peter\n",
      "Jane (Rock) vs Zoe (Paper) => Winner: Zoe\n",
      "Peter (Scissors) vs Zoe (Rock) => Winner: Zoe\n",
      "Jim (Rock) vs Jane (Paper) => Winner: Jane\n",
      "Jim (Rock) vs Peter (Scissors) => Winner: Jim\n",
      "Jim (Scissors) vs Zoe (Paper) => Winner: Jim\n",
      "Jane (Rock) vs Peter (Rock) => Draw\n",
      "Jane (Scissors) vs Zoe (Paper) => Winner: Jane\n",
      "Peter (Rock) vs Zoe (Paper) => Winner: Zoe\n",
      "Jim (Rock) vs Jane (Paper) => Winner: Jane\n",
      "Jim (Scissors) vs Peter (Scissors) => Draw\n",
      "Jim (Rock) vs Zoe (Paper) => Winner: Zoe\n",
      "Jane (Paper) vs Peter (Paper) => Draw\n",
      "Jane (Rock) vs Zoe (Paper) => Winner: Zoe\n",
      "Peter (Paper) vs Zoe (Scissors) => Winner: Zoe\n",
      "Jim (Paper) vs Jane (Paper) => Draw\n",
      "Jim (Scissors) vs Peter (Rock) => Winner: Peter\n",
      "Jim (Rock) vs Zoe (Rock) => Draw\n",
      "Jane (Paper) vs Peter (Rock) => Winner: Jane\n",
      "Jane (Rock) vs Zoe (Scissors) => Winner: Jane\n",
      "Peter (Scissors) vs Zoe (Rock) => Winner: Zoe\n",
      "Jim (Paper) vs Jane (Rock) => Winner: Jim\n",
      "Jim (Rock) vs Peter (Paper) => Winner: Peter\n",
      "Jim (Paper) vs Zoe (Rock) => Winner: Jim\n",
      "Jane (Rock) vs Peter (Paper) => Winner: Peter\n",
      "Jane (Scissors) vs Zoe (Scissors) => Draw\n",
      "Peter (Rock) vs Zoe (Scissors) => Winner: Peter\n",
      "Jim (Paper) vs Jane (Scissors) => Winner: Jane\n",
      "Jim (Scissors) vs Peter (Scissors) => Draw\n",
      "Jim (Paper) vs Zoe (Paper) => Draw\n",
      "Jane (Paper) vs Peter (Paper) => Draw\n",
      "Jane (Paper) vs Zoe (Paper) => Draw\n",
      "Peter (Scissors) vs Zoe (Scissors) => Draw\n",
      "Jim (Paper) vs Jane (Paper) => Draw\n",
      "Jim (Scissors) vs Peter (Paper) => Winner: Jim\n",
      "Jim (Scissors) vs Zoe (Scissors) => Draw\n",
      "Jane (Paper) vs Peter (Scissors) => Winner: Peter\n",
      "Jane (Paper) vs Zoe (Rock) => Winner: Jane\n",
      "Peter (Scissors) vs Zoe (Paper) => Winner: Peter\n",
      "Jim (Scissors) vs Jane (Paper) => Winner: Jim\n",
      "Jim (Scissors) vs Peter (Scissors) => Draw\n",
      "Jim (Paper) vs Zoe (Scissors) => Winner: Zoe\n",
      "Jane (Rock) vs Peter (Rock) => Draw\n",
      "Jane (Rock) vs Zoe (Paper) => Winner: Zoe\n",
      "Peter (Paper) vs Zoe (Scissors) => Winner: Zoe\n",
      "Jim (Paper) vs Jane (Paper) => Draw\n",
      "Jim (Rock) vs Peter (Paper) => Winner: Peter\n",
      "Jim (Scissors) vs Zoe (Rock) => Winner: Zoe\n",
      "Jane (Rock) vs Peter (Paper) => Winner: Peter\n",
      "Jane (Paper) vs Zoe (Scissors) => Winner: Zoe\n",
      "Peter (Rock) vs Zoe (Paper) => Winner: Zoe\n",
      "Jim (Rock) vs Jane (Rock) => Draw\n",
      "Jim (Paper) vs Peter (Rock) => Winner: Jim\n",
      "Jim (Rock) vs Zoe (Paper) => Winner: Zoe\n",
      "Jane (Paper) vs Peter (Scissors) => Winner: Peter\n",
      "Jane (Rock) vs Zoe (Paper) => Winner: Zoe\n",
      "Peter (Rock) vs Zoe (Rock) => Draw\n",
      "Jim (Paper) vs Jane (Rock) => Winner: Jim\n",
      "Jim (Paper) vs Peter (Paper) => Draw\n",
      "Jim (Paper) vs Zoe (Scissors) => Winner: Zoe\n",
      "Jane (Paper) vs Peter (Rock) => Winner: Jane\n",
      "Jane (Paper) vs Zoe (Paper) => Draw\n",
      "Peter (Paper) vs Zoe (Rock) => Winner: Peter\n",
      "Jim (Paper) vs Jane (Scissors) => Winner: Jane\n",
      "Jim (Paper) vs Peter (Paper) => Draw\n",
      "Jim (Scissors) vs Zoe (Scissors) => Draw\n",
      "Jane (Paper) vs Peter (Rock) => Winner: Jane\n",
      "Jane (Rock) vs Zoe (Scissors) => Winner: Jane\n",
      "Peter (Rock) vs Zoe (Paper) => Winner: Zoe\n",
      "Jim (Rock) vs Jane (Scissors) => Winner: Jim\n",
      "Jim (Paper) vs Peter (Paper) => Draw\n",
      "Jim (Scissors) vs Zoe (Rock) => Winner: Zoe\n",
      "Jane (Paper) vs Peter (Paper) => Draw\n",
      "Jane (Paper) vs Zoe (Scissors) => Winner: Zoe\n",
      "Peter (Scissors) vs Zoe (Scissors) => Draw\n",
      "Jim (Scissors) vs Jane (Paper) => Winner: Jim\n",
      "Jim (Paper) vs Peter (Paper) => Draw\n",
      "Jim (Rock) vs Zoe (Scissors) => Winner: Jim\n",
      "Jane (Paper) vs Peter (Scissors) => Winner: Peter\n",
      "Jane (Scissors) vs Zoe (Scissors) => Draw\n",
      "Peter (Rock) vs Zoe (Paper) => Winner: Zoe\n",
      "Jim (Paper) vs Jane (Scissors) => Winner: Jane\n",
      "Jim (Scissors) vs Peter (Scissors) => Draw\n",
      "Jim (Scissors) vs Zoe (Paper) => Winner: Jim\n",
      "Jane (Paper) vs Peter (Paper) => Draw\n",
      "Jane (Scissors) vs Zoe (Paper) => Winner: Jane\n",
      "Peter (Rock) vs Zoe (Rock) => Draw\n",
      "Jim (Rock) vs Jane (Paper) => Winner: Jane\n",
      "Jim (Rock) vs Peter (Scissors) => Winner: Jim\n",
      "Jim (Rock) vs Zoe (Scissors) => Winner: Jim\n",
      "Jane (Paper) vs Peter (Paper) => Draw\n",
      "Jane (Paper) vs Zoe (Paper) => Draw\n",
      "Peter (Paper) vs Zoe (Rock) => Winner: Peter\n",
      "Jim (Scissors) vs Jane (Scissors) => Draw\n",
      "Jim (Scissors) vs Peter (Paper) => Winner: Jim\n",
      "Jim (Paper) vs Zoe (Paper) => Draw\n",
      "Jane (Paper) vs Peter (Paper) => Draw\n",
      "Jane (Rock) vs Zoe (Rock) => Draw\n",
      "Peter (Scissors) vs Zoe (Paper) => Winner: Peter\n",
      "Jim (Paper) vs Jane (Paper) => Draw\n",
      "Jim (Scissors) vs Peter (Scissors) => Draw\n",
      "Jim (Scissors) vs Zoe (Paper) => Winner: Jim\n",
      "Jane (Rock) vs Peter (Scissors) => Winner: Jane\n",
      "Jane (Scissors) vs Zoe (Paper) => Winner: Jane\n",
      "Peter (Paper) vs Zoe (Rock) => Winner: Peter\n",
      "Jim (Scissors) vs Jane (Scissors) => Draw\n",
      "Jim (Paper) vs Peter (Rock) => Winner: Jim\n",
      "Jim (Rock) vs Zoe (Scissors) => Winner: Jim\n",
      "Jane (Scissors) vs Peter (Paper) => Winner: Jane\n",
      "Jane (Scissors) vs Zoe (Paper) => Winner: Jane\n",
      "Peter (Scissors) vs Zoe (Rock) => Winner: Zoe\n",
      "Jim (Scissors) vs Jane (Rock) => Winner: Jane\n",
      "Jim (Paper) vs Peter (Scissors) => Winner: Peter\n",
      "Jim (Paper) vs Zoe (Scissors) => Winner: Zoe\n",
      "Jane (Rock) vs Peter (Rock) => Draw\n",
      "Jane (Paper) vs Zoe (Paper) => Draw\n",
      "Peter (Paper) vs Zoe (Rock) => Winner: Peter\n",
      "Jim (Paper) vs Jane (Paper) => Draw\n",
      "Jim (Scissors) vs Peter (Rock) => Winner: Peter\n",
      "Jim (Rock) vs Zoe (Rock) => Draw\n",
      "Jane (Rock) vs Peter (Paper) => Winner: Peter\n",
      "Jane (Rock) vs Zoe (Paper) => Winner: Zoe\n",
      "Peter (Scissors) vs Zoe (Rock) => Winner: Zoe\n",
      "Jim (Scissors) vs Jane (Paper) => Winner: Jim\n",
      "Jim (Paper) vs Peter (Paper) => Draw\n",
      "Jim (Scissors) vs Zoe (Rock) => Winner: Zoe\n",
      "Jane (Scissors) vs Peter (Paper) => Winner: Jane\n",
      "Jane (Rock) vs Zoe (Rock) => Draw\n",
      "Peter (Scissors) vs Zoe (Paper) => Winner: Peter\n",
      "Jim (Paper) vs Jane (Scissors) => Winner: Jane\n",
      "Jim (Scissors) vs Peter (Rock) => Winner: Peter\n",
      "Jim (Paper) vs Zoe (Paper) => Draw\n",
      "Jane (Scissors) vs Peter (Scissors) => Draw\n",
      "Jane (Scissors) vs Zoe (Rock) => Winner: Zoe\n",
      "Peter (Rock) vs Zoe (Paper) => Winner: Zoe\n",
      "Jim (Rock) vs Jane (Scissors) => Winner: Jim\n",
      "Jim (Paper) vs Peter (Paper) => Draw\n",
      "Jim (Paper) vs Zoe (Scissors) => Winner: Zoe\n",
      "Jane (Scissors) vs Peter (Paper) => Winner: Jane\n",
      "Jane (Scissors) vs Zoe (Scissors) => Draw\n",
      "Peter (Rock) vs Zoe (Paper) => Winner: Zoe\n",
      "Jim (Paper) vs Jane (Rock) => Winner: Jim\n",
      "Jim (Paper) vs Peter (Paper) => Draw\n",
      "Jim (Rock) vs Zoe (Rock) => Draw\n",
      "Jane (Scissors) vs Peter (Rock) => Winner: Peter\n",
      "Jane (Rock) vs Zoe (Scissors) => Winner: Jane\n",
      "Peter (Rock) vs Zoe (Paper) => Winner: Zoe\n",
      "Jim (Scissors) vs Jane (Rock) => Winner: Jane\n",
      "Jim (Rock) vs Peter (Paper) => Winner: Peter\n",
      "Jim (Paper) vs Zoe (Paper) => Draw\n",
      "Jane (Rock) vs Peter (Scissors) => Winner: Jane\n",
      "Jane (Rock) vs Zoe (Paper) => Winner: Zoe\n",
      "Peter (Paper) vs Zoe (Scissors) => Winner: Zoe\n",
      "Jim (Scissors) vs Jane (Rock) => Winner: Jane\n",
      "Jim (Paper) vs Peter (Scissors) => Winner: Peter\n",
      "Jim (Rock) vs Zoe (Rock) => Draw\n",
      "Jane (Scissors) vs Peter (Rock) => Winner: Peter\n",
      "Jane (Rock) vs Zoe (Rock) => Draw\n",
      "Peter (Paper) vs Zoe (Paper) => Draw\n",
      "Jim (Rock) vs Jane (Scissors) => Winner: Jim\n",
      "Jim (Scissors) vs Peter (Scissors) => Draw\n",
      "Jim (Scissors) vs Zoe (Paper) => Winner: Jim\n",
      "Jane (Rock) vs Peter (Rock) => Draw\n",
      "Jane (Scissors) vs Zoe (Paper) => Winner: Jane\n",
      "Peter (Paper) vs Zoe (Paper) => Draw\n",
      "Jim (Rock) vs Jane (Paper) => Winner: Jane\n",
      "Jim (Scissors) vs Peter (Paper) => Winner: Jim\n",
      "Jim (Rock) vs Zoe (Rock) => Draw\n",
      "Jane (Rock) vs Peter (Scissors) => Winner: Jane\n",
      "Jane (Scissors) vs Zoe (Paper) => Winner: Jane\n",
      "Peter (Rock) vs Zoe (Rock) => Draw\n",
      "Jim (Paper) vs Jane (Rock) => Winner: Jim\n",
      "Jim (Paper) vs Peter (Rock) => Winner: Jim\n",
      "Jim (Paper) vs Zoe (Rock) => Winner: Jim\n",
      "Jane (Rock) vs Peter (Scissors) => Winner: Jane\n",
      "Jane (Paper) vs Zoe (Rock) => Winner: Jane\n",
      "Peter (Scissors) vs Zoe (Scissors) => Draw\n",
      "Jim (Scissors) vs Jane (Scissors) => Draw\n",
      "Jim (Rock) vs Peter (Scissors) => Winner: Jim\n",
      "Jim (Scissors) vs Zoe (Paper) => Winner: Jim\n",
      "Jane (Paper) vs Peter (Paper) => Draw\n",
      "Jane (Paper) vs Zoe (Rock) => Winner: Jane\n",
      "Peter (Paper) vs Zoe (Paper) => Draw\n",
      "Jim (Rock) vs Jane (Rock) => Draw\n",
      "Jim (Rock) vs Peter (Rock) => Draw\n",
      "Jim (Scissors) vs Zoe (Paper) => Winner: Jim\n",
      "Jane (Scissors) vs Peter (Paper) => Winner: Jane\n",
      "Jane (Paper) vs Zoe (Paper) => Draw\n",
      "Peter (Scissors) vs Zoe (Paper) => Winner: Peter\n",
      "Jim (Paper) vs Jane (Paper) => Draw\n",
      "Jim (Rock) vs Peter (Paper) => Winner: Peter\n",
      "Jim (Scissors) vs Zoe (Rock) => Winner: Zoe\n",
      "Jane (Scissors) vs Peter (Rock) => Winner: Peter\n",
      "Jane (Paper) vs Zoe (Paper) => Draw\n",
      "Peter (Rock) vs Zoe (Scissors) => Winner: Peter\n",
      "Jim (Rock) vs Jane (Paper) => Winner: Jane\n",
      "Jim (Scissors) vs Peter (Scissors) => Draw\n",
      "Jim (Scissors) vs Zoe (Rock) => Winner: Zoe\n",
      "Jane (Rock) vs Peter (Rock) => Draw\n",
      "Jane (Scissors) vs Zoe (Paper) => Winner: Jane\n",
      "Peter (Paper) vs Zoe (Scissors) => Winner: Zoe\n",
      "Jim (Paper) vs Jane (Scissors) => Winner: Jane\n",
      "Jim (Paper) vs Peter (Scissors) => Winner: Peter\n",
      "Jim (Rock) vs Zoe (Scissors) => Winner: Jim\n",
      "Jane (Rock) vs Peter (Paper) => Winner: Peter\n",
      "Jane (Paper) vs Zoe (Rock) => Winner: Jane\n",
      "Peter (Paper) vs Zoe (Scissors) => Winner: Zoe\n",
      "Jim (Rock) vs Jane (Scissors) => Winner: Jim\n",
      "Jim (Paper) vs Peter (Scissors) => Winner: Peter\n",
      "Jim (Rock) vs Zoe (Paper) => Winner: Zoe\n",
      "Jane (Paper) vs Peter (Paper) => Draw\n",
      "Jane (Scissors) vs Zoe (Scissors) => Draw\n",
      "Peter (Paper) vs Zoe (Paper) => Draw\n",
      "Jim (Paper) vs Jane (Scissors) => Winner: Jane\n",
      "Jim (Rock) vs Peter (Paper) => Winner: Peter\n",
      "Jim (Scissors) vs Zoe (Rock) => Winner: Zoe\n",
      "Jane (Paper) vs Peter (Paper) => Draw\n",
      "Jane (Paper) vs Zoe (Scissors) => Winner: Zoe\n",
      "Peter (Scissors) vs Zoe (Paper) => Winner: Peter\n",
      "Jim (Scissors) vs Jane (Rock) => Winner: Jane\n",
      "Jim (Scissors) vs Peter (Paper) => Winner: Jim\n",
      "Jim (Scissors) vs Zoe (Paper) => Winner: Jim\n",
      "Jane (Paper) vs Peter (Scissors) => Winner: Peter\n",
      "Jane (Scissors) vs Zoe (Rock) => Winner: Zoe\n",
      "Peter (Scissors) vs Zoe (Paper) => Winner: Peter\n",
      "Jim (Scissors) vs Jane (Paper) => Winner: Jim\n",
      "Jim (Rock) vs Peter (Paper) => Winner: Peter\n",
      "Jim (Rock) vs Zoe (Paper) => Winner: Zoe\n",
      "Jane (Rock) vs Peter (Rock) => Draw\n",
      "Jane (Rock) vs Zoe (Scissors) => Winner: Jane\n",
      "Peter (Paper) vs Zoe (Paper) => Draw\n",
      "Jim (Scissors) vs Jane (Rock) => Winner: Jane\n",
      "Jim (Scissors) vs Peter (Paper) => Winner: Jim\n",
      "Jim (Scissors) vs Zoe (Rock) => Winner: Zoe\n",
      "Jane (Rock) vs Peter (Paper) => Winner: Peter\n",
      "Jane (Paper) vs Zoe (Scissors) => Winner: Zoe\n",
      "Peter (Paper) vs Zoe (Rock) => Winner: Peter\n",
      "Jim (Paper) vs Jane (Paper) => Draw\n",
      "Jim (Paper) vs Peter (Rock) => Winner: Jim\n",
      "Jim (Scissors) vs Zoe (Rock) => Winner: Zoe\n",
      "Jane (Scissors) vs Peter (Scissors) => Draw\n",
      "Jane (Rock) vs Zoe (Rock) => Draw\n",
      "Peter (Paper) vs Zoe (Rock) => Winner: Peter\n",
      "Jim (Scissors) vs Jane (Scissors) => Draw\n",
      "Jim (Scissors) vs Peter (Scissors) => Draw\n",
      "Jim (Paper) vs Zoe (Paper) => Draw\n",
      "Jane (Rock) vs Peter (Rock) => Draw\n",
      "Jane (Rock) vs Zoe (Scissors) => Winner: Jane\n",
      "Peter (Paper) vs Zoe (Paper) => Draw\n",
      "Jim (Paper) vs Jane (Paper) => Draw\n",
      "Jim (Rock) vs Peter (Scissors) => Winner: Jim\n",
      "Jim (Rock) vs Zoe (Scissors) => Winner: Jim\n",
      "Jane (Rock) vs Peter (Scissors) => Winner: Jane\n",
      "Jane (Paper) vs Zoe (Scissors) => Winner: Zoe\n",
      "Peter (Rock) vs Zoe (Scissors) => Winner: Peter\n",
      "Jim (Paper) vs Jane (Scissors) => Winner: Jane\n",
      "Jim (Rock) vs Peter (Paper) => Winner: Peter\n",
      "Jim (Paper) vs Zoe (Rock) => Winner: Jim\n",
      "Jane (Rock) vs Peter (Scissors) => Winner: Jane\n",
      "Jane (Rock) vs Zoe (Rock) => Draw\n",
      "Peter (Scissors) vs Zoe (Rock) => Winner: Zoe\n",
      "Jim (Paper) vs Jane (Scissors) => Winner: Jane\n",
      "Jim (Rock) vs Peter (Paper) => Winner: Peter\n",
      "Jim (Scissors) vs Zoe (Scissors) => Draw\n",
      "Jane (Paper) vs Peter (Scissors) => Winner: Peter\n",
      "Jane (Paper) vs Zoe (Rock) => Winner: Jane\n",
      "Peter (Rock) vs Zoe (Scissors) => Winner: Peter\n",
      "Jim (Rock) vs Jane (Rock) => Draw\n",
      "Jim (Scissors) vs Peter (Paper) => Winner: Jim\n",
      "Jim (Scissors) vs Zoe (Paper) => Winner: Jim\n",
      "Jane (Paper) vs Peter (Paper) => Draw\n",
      "Jane (Rock) vs Zoe (Rock) => Draw\n",
      "Peter (Paper) vs Zoe (Rock) => Winner: Peter\n",
      "Jim (Scissors) vs Jane (Paper) => Winner: Jim\n",
      "Jim (Paper) vs Peter (Rock) => Winner: Jim\n",
      "Jim (Paper) vs Zoe (Scissors) => Winner: Zoe\n",
      "Jane (Scissors) vs Peter (Rock) => Winner: Peter\n",
      "Jane (Rock) vs Zoe (Rock) => Draw\n",
      "Peter (Rock) vs Zoe (Rock) => Draw\n",
      "Jim (Scissors) vs Jane (Paper) => Winner: Jim\n",
      "Jim (Scissors) vs Peter (Rock) => Winner: Peter\n",
      "Jim (Scissors) vs Zoe (Paper) => Winner: Jim\n",
      "Jane (Scissors) vs Peter (Rock) => Winner: Peter\n",
      "Jane (Paper) vs Zoe (Scissors) => Winner: Zoe\n",
      "Peter (Rock) vs Zoe (Scissors) => Winner: Peter\n",
      "Jim (Rock) vs Jane (Rock) => Draw\n",
      "Jim (Paper) vs Peter (Paper) => Draw\n",
      "Jim (Paper) vs Zoe (Paper) => Draw\n",
      "Jane (Paper) vs Peter (Scissors) => Winner: Peter\n",
      "Jane (Scissors) vs Zoe (Rock) => Winner: Zoe\n",
      "Peter (Rock) vs Zoe (Paper) => Winner: Zoe\n",
      "Jim (Paper) vs Jane (Paper) => Draw\n",
      "Jim (Scissors) vs Peter (Scissors) => Draw\n",
      "Jim (Scissors) vs Zoe (Paper) => Winner: Jim\n",
      "Jane (Paper) vs Peter (Scissors) => Winner: Peter\n",
      "Jane (Paper) vs Zoe (Scissors) => Winner: Zoe\n",
      "Peter (Paper) vs Zoe (Paper) => Draw\n",
      "Jim (Scissors) vs Jane (Scissors) => Draw\n",
      "Jim (Rock) vs Peter (Scissors) => Winner: Jim\n",
      "Jim (Scissors) vs Zoe (Scissors) => Draw\n",
      "Jane (Paper) vs Peter (Rock) => Winner: Jane\n",
      "Jane (Scissors) vs Zoe (Paper) => Winner: Jane\n",
      "Peter (Paper) vs Zoe (Scissors) => Winner: Zoe\n",
      "Jim (Paper) vs Jane (Rock) => Winner: Jim\n",
      "Jim (Paper) vs Peter (Paper) => Draw\n",
      "Jim (Scissors) vs Zoe (Scissors) => Draw\n",
      "Jane (Paper) vs Peter (Scissors) => Winner: Peter\n",
      "Jane (Rock) vs Zoe (Paper) => Winner: Zoe\n",
      "Peter (Paper) vs Zoe (Scissors) => Winner: Zoe\n",
      "Jim (Paper) vs Jane (Scissors) => Winner: Jane\n",
      "Jim (Scissors) vs Peter (Rock) => Winner: Peter\n",
      "Jim (Rock) vs Zoe (Scissors) => Winner: Jim\n",
      "Jane (Scissors) vs Peter (Rock) => Winner: Peter\n",
      "Jane (Rock) vs Zoe (Scissors) => Winner: Jane\n",
      "Peter (Scissors) vs Zoe (Rock) => Winner: Zoe\n",
      "Jim (Paper) vs Jane (Rock) => Winner: Jim\n",
      "Jim (Scissors) vs Peter (Rock) => Winner: Peter\n",
      "Jim (Scissors) vs Zoe (Paper) => Winner: Jim\n",
      "Jane (Scissors) vs Peter (Rock) => Winner: Peter\n",
      "Jane (Scissors) vs Zoe (Scissors) => Draw\n",
      "Peter (Paper) vs Zoe (Paper) => Draw\n",
      "Jim (Paper) vs Jane (Scissors) => Winner: Jane\n",
      "Jim (Paper) vs Peter (Paper) => Draw\n",
      "Jim (Scissors) vs Zoe (Paper) => Winner: Jim\n",
      "Jane (Scissors) vs Peter (Scissors) => Draw\n",
      "Jane (Rock) vs Zoe (Paper) => Winner: Zoe\n",
      "Peter (Paper) vs Zoe (Rock) => Winner: Peter\n",
      "Jim (Rock) vs Jane (Scissors) => Winner: Jim\n",
      "Jim (Paper) vs Peter (Paper) => Draw\n",
      "Jim (Scissors) vs Zoe (Paper) => Winner: Jim\n",
      "Jane (Rock) vs Peter (Paper) => Winner: Peter\n",
      "Jane (Scissors) vs Zoe (Paper) => Winner: Jane\n",
      "Peter (Paper) vs Zoe (Rock) => Winner: Peter\n",
      "Jim (Paper) vs Jane (Scissors) => Winner: Jane\n",
      "Jim (Scissors) vs Peter (Scissors) => Draw\n",
      "Jim (Rock) vs Zoe (Rock) => Draw\n",
      "Jane (Scissors) vs Peter (Paper) => Winner: Jane\n",
      "Jane (Scissors) vs Zoe (Paper) => Winner: Jane\n",
      "Peter (Paper) vs Zoe (Rock) => Winner: Peter\n",
      "Jim (Rock) vs Jane (Paper) => Winner: Jane\n",
      "Jim (Scissors) vs Peter (Scissors) => Draw\n",
      "Jim (Paper) vs Zoe (Paper) => Draw\n",
      "Jane (Paper) vs Peter (Paper) => Draw\n",
      "Jane (Paper) vs Zoe (Paper) => Draw\n",
      "Peter (Rock) vs Zoe (Paper) => Winner: Zoe\n",
      "Jim (Scissors) vs Jane (Rock) => Winner: Jane\n",
      "Jim (Scissors) vs Peter (Scissors) => Draw\n",
      "Jim (Paper) vs Zoe (Scissors) => Winner: Zoe\n",
      "Jane (Scissors) vs Peter (Rock) => Winner: Peter\n",
      "Jane (Rock) vs Zoe (Paper) => Winner: Zoe\n",
      "Peter (Paper) vs Zoe (Scissors) => Winner: Zoe\n",
      "Jim (Rock) vs Jane (Paper) => Winner: Jane\n",
      "Jim (Scissors) vs Peter (Rock) => Winner: Peter\n",
      "Jim (Rock) vs Zoe (Rock) => Draw\n",
      "Jane (Scissors) vs Peter (Rock) => Winner: Peter\n",
      "Jane (Paper) vs Zoe (Paper) => Draw\n",
      "Peter (Paper) vs Zoe (Scissors) => Winner: Zoe\n",
      "Jim (Scissors) vs Jane (Scissors) => Draw\n",
      "Jim (Scissors) vs Peter (Rock) => Winner: Peter\n",
      "Jim (Paper) vs Zoe (Rock) => Winner: Jim\n",
      "Jane (Rock) vs Peter (Paper) => Winner: Peter\n",
      "Jane (Scissors) vs Zoe (Scissors) => Draw\n",
      "Peter (Scissors) vs Zoe (Scissors) => Draw\n",
      "Jim (Rock) vs Jane (Rock) => Draw\n",
      "Jim (Scissors) vs Peter (Scissors) => Draw\n",
      "Jim (Scissors) vs Zoe (Scissors) => Draw\n",
      "Jane (Rock) vs Peter (Scissors) => Winner: Jane\n",
      "Jane (Paper) vs Zoe (Rock) => Winner: Jane\n",
      "Peter (Rock) vs Zoe (Rock) => Draw\n",
      "Jim (Scissors) vs Jane (Rock) => Winner: Jane\n",
      "Jim (Scissors) vs Peter (Rock) => Winner: Peter\n",
      "Jim (Paper) vs Zoe (Scissors) => Winner: Zoe\n",
      "Jane (Rock) vs Peter (Paper) => Winner: Peter\n",
      "Jane (Paper) vs Zoe (Paper) => Draw\n",
      "Peter (Scissors) vs Zoe (Scissors) => Draw\n",
      "Jim (Paper) vs Jane (Rock) => Winner: Jim\n",
      "Jim (Scissors) vs Peter (Scissors) => Draw\n",
      "Jim (Rock) vs Zoe (Paper) => Winner: Zoe\n",
      "Jane (Rock) vs Peter (Rock) => Draw\n",
      "Jane (Scissors) vs Zoe (Paper) => Winner: Jane\n",
      "Peter (Paper) vs Zoe (Paper) => Draw\n",
      "Jim (Rock) vs Jane (Rock) => Draw\n",
      "Jim (Rock) vs Peter (Scissors) => Winner: Jim\n",
      "Jim (Rock) vs Zoe (Scissors) => Winner: Jim\n",
      "Jane (Scissors) vs Peter (Paper) => Winner: Jane\n",
      "Jane (Scissors) vs Zoe (Rock) => Winner: Zoe\n",
      "Peter (Scissors) vs Zoe (Paper) => Winner: Peter\n",
      "Jim (Rock) vs Jane (Rock) => Draw\n",
      "Jim (Rock) vs Peter (Rock) => Draw\n",
      "Jim (Rock) vs Zoe (Paper) => Winner: Zoe\n",
      "Jane (Paper) vs Peter (Paper) => Draw\n",
      "Jane (Rock) vs Zoe (Scissors) => Winner: Jane\n",
      "Peter (Rock) vs Zoe (Scissors) => Winner: Peter\n",
      "Jim (Paper) vs Jane (Scissors) => Winner: Jane\n",
      "Jim (Rock) vs Peter (Scissors) => Winner: Jim\n",
      "Jim (Scissors) vs Zoe (Scissors) => Draw\n",
      "Jane (Paper) vs Peter (Scissors) => Winner: Peter\n",
      "Jane (Rock) vs Zoe (Rock) => Draw\n",
      "Peter (Paper) vs Zoe (Scissors) => Winner: Zoe\n",
      "Jim (Scissors) vs Jane (Scissors) => Draw\n",
      "Jim (Paper) vs Peter (Paper) => Draw\n",
      "Jim (Paper) vs Zoe (Paper) => Draw\n",
      "Jane (Scissors) vs Peter (Paper) => Winner: Jane\n",
      "Jane (Rock) vs Zoe (Rock) => Draw\n",
      "Peter (Rock) vs Zoe (Scissors) => Winner: Peter\n",
      "Jim (Paper) vs Jane (Scissors) => Winner: Jane\n",
      "Jim (Scissors) vs Peter (Rock) => Winner: Peter\n",
      "Jim (Paper) vs Zoe (Paper) => Draw\n",
      "Jane (Rock) vs Peter (Rock) => Draw\n",
      "Jane (Rock) vs Zoe (Rock) => Draw\n",
      "Peter (Paper) vs Zoe (Paper) => Draw\n",
      "Jim (Paper) vs Jane (Scissors) => Winner: Jane\n",
      "Jim (Rock) vs Peter (Scissors) => Winner: Jim\n",
      "Jim (Rock) vs Zoe (Paper) => Winner: Zoe\n",
      "Jane (Scissors) vs Peter (Rock) => Winner: Peter\n",
      "Jane (Rock) vs Zoe (Paper) => Winner: Zoe\n",
      "Peter (Paper) vs Zoe (Scissors) => Winner: Zoe\n",
      "Jim (Rock) vs Jane (Rock) => Draw\n",
      "Jim (Rock) vs Peter (Rock) => Draw\n",
      "Jim (Rock) vs Zoe (Paper) => Winner: Zoe\n",
      "Jane (Rock) vs Peter (Rock) => Draw\n",
      "Jane (Rock) vs Zoe (Rock) => Draw\n",
      "Peter (Rock) vs Zoe (Rock) => Draw\n",
      "Jim (Scissors) vs Jane (Paper) => Winner: Jim\n",
      "Jim (Rock) vs Peter (Rock) => Draw\n",
      "Jim (Scissors) vs Zoe (Rock) => Winner: Zoe\n",
      "Jane (Paper) vs Peter (Rock) => Winner: Jane\n",
      "Jane (Paper) vs Zoe (Paper) => Draw\n",
      "Peter (Paper) vs Zoe (Scissors) => Winner: Zoe\n",
      "Jim (Paper) vs Jane (Paper) => Draw\n",
      "Jim (Paper) vs Peter (Rock) => Winner: Jim\n",
      "Jim (Rock) vs Zoe (Rock) => Draw\n",
      "Jane (Paper) vs Peter (Rock) => Winner: Jane\n",
      "Jane (Scissors) vs Zoe (Scissors) => Draw\n",
      "Peter (Scissors) vs Zoe (Paper) => Winner: Peter\n",
      "Jim (Scissors) vs Jane (Paper) => Winner: Jim\n",
      "Jim (Scissors) vs Peter (Scissors) => Draw\n",
      "Jim (Paper) vs Zoe (Rock) => Winner: Jim\n",
      "Jane (Paper) vs Peter (Scissors) => Winner: Peter\n",
      "Jane (Scissors) vs Zoe (Scissors) => Draw\n",
      "Peter (Paper) vs Zoe (Paper) => Draw\n",
      "Jim (Scissors) vs Jane (Rock) => Winner: Jane\n",
      "Jim (Paper) vs Peter (Rock) => Winner: Jim\n",
      "Jim (Rock) vs Zoe (Rock) => Draw\n",
      "Jane (Paper) vs Peter (Rock) => Winner: Jane\n",
      "Jane (Scissors) vs Zoe (Scissors) => Draw\n",
      "Peter (Rock) vs Zoe (Rock) => Draw\n",
      "Jim (Scissors) vs Jane (Scissors) => Draw\n",
      "Jim (Scissors) vs Peter (Scissors) => Draw\n",
      "Jim (Paper) vs Zoe (Paper) => Draw\n",
      "Jane (Paper) vs Peter (Paper) => Draw\n",
      "Jane (Rock) vs Zoe (Scissors) => Winner: Jane\n",
      "Peter (Rock) vs Zoe (Paper) => Winner: Zoe\n",
      "Jim (Paper) vs Jane (Paper) => Draw\n",
      "Jim (Paper) vs Peter (Scissors) => Winner: Peter\n",
      "Jim (Rock) vs Zoe (Paper) => Winner: Zoe\n",
      "Jane (Scissors) vs Peter (Scissors) => Draw\n",
      "Jane (Paper) vs Zoe (Scissors) => Winner: Zoe\n",
      "Peter (Scissors) vs Zoe (Rock) => Winner: Zoe\n",
      "Jim (Scissors) vs Jane (Rock) => Winner: Jane\n",
      "Jim (Scissors) vs Peter (Scissors) => Draw\n",
      "Jim (Rock) vs Zoe (Rock) => Draw\n",
      "Jane (Paper) vs Peter (Scissors) => Winner: Peter\n",
      "Jane (Scissors) vs Zoe (Scissors) => Draw\n",
      "Peter (Scissors) vs Zoe (Scissors) => Draw\n",
      "\n",
      "Final Scores:\n",
      "Jim: 90 pts\n",
      "Jane: 95 pts\n",
      "Peter: 101 pts\n",
      "Zoe: 99 pts\n"
     ]
    }
   ],
   "source": [
    "# resetting society\n",
    "society=[{'name':n,'score':0,'strategy':None} for n in names]\n",
    "\n",
    "# several rounds\n",
    "for aRound in range(100):\n",
    "    \n",
    "    # en each round:\n",
    "    for player1,player2 in itertools.combinations(society,2):\n",
    "        # each chooses strategy\n",
    "        player1['strategy']=choice(strategies)\n",
    "        \n",
    "        player2['strategy']=choice(strategies)\n",
    "        \n",
    "        # result from strategy chosen\n",
    "        result=payoff[player1['strategy'],player2['strategy']]\n",
    "            \n",
    "        # update scores\n",
    "        player1['score']+=result[0]\n",
    "        player2['score']+=result[1]\n",
    "\n",
    "        if result == (1, 0):\n",
    "            print(f\"{player1['name']} ({player1['strategy']}) vs {player2['name']} ({player2['strategy']}) => Winner: {player1['name']}\")\n",
    "        elif result == (0, 1):\n",
    "            print(f\"{player1['name']} ({player1['strategy']}) vs {player2['name']} ({player2['strategy']}) => Winner: {player2['name']}\")\n",
    "        else:\n",
    "            print(f\"{player1['name']} ({player1['strategy']}) vs {player2['name']} ({player2['strategy']}) => Draw\")\n",
    "\n",
    "print(\"\\nFinal Scores:\")\n",
    "for player in society:\n",
    "    print(f\"{player['name']}: {player['score']} pts\")"
   ]
  },
  {
   "cell_type": "code",
   "execution_count": 210,
   "metadata": {},
   "outputs": [
    {
     "name": "stdout",
     "output_type": "stream",
     "text": [
      "Round 100: Current stats\n",
      "Jim - Score: 90 - Last Strategy: Rock\n",
      "Jane - Score: 95 - Last Strategy: Scissors\n",
      "Peter - Score: 101 - Last Strategy: Scissors\n",
      "Zoe - Score: 99 - Last Strategy: Scissors\n"
     ]
    },
    {
     "data": {
      "image/png": "[encoded data removed]",
      "text/plain": [
       "<Figure size 640x480 with 1 Axes>"
      ]
     },
     "metadata": {},
     "output_type": "display_data"
    },
    {
     "name": "stdout",
     "output_type": "stream",
     "text": [
      "\n",
      "Final Standings:\n",
      "Peter - Final Score: 101\n",
      "Zoe - Final Score: 99\n",
      "Jane - Final Score: 95\n",
      "Jim - Final Score: 90\n",
      "\n",
      "Winner: Peter with 101 points!\n"
     ]
    }
   ],
   "source": [
    "import matplotlib.pyplot as plt\n",
    "from IPython.display import clear_output\n",
    "import time\n",
    "\n",
    "# Simulated example for live visualization\n",
    "results = {\"Rock\": 0, \"Paper\": 0, \"Scissors\": 0}\n",
    "\n",
    "# Example loop for 10 rounds\n",
    "for i in range(10):\n",
    "    # Simulate a random outcome (replace this with actual logic)\n",
    "    import random\n",
    "    choice = random.choice([\"Rock\", \"Paper\", \"Scissors\"])\n",
    "    results[choice] += 1\n",
    "\n",
    "    # Clear previous output\n",
    "    clear_output(wait=True)\n",
    "\n",
    "    # Display updated results\n",
    "    print(f\"Round {i+1}: Current stats\")\n",
    "    for key, value in results.items():\n",
    "        print(f\"{key}: {value}\")\n",
    "\n",
    "# Mostrar progreso cada 10 rondas\n",
    "    if (aRound + 1) % 10 == 0 or aRound == num_rounds - 1:\n",
    "        clear_output(wait=True)\n",
    "        print(f\"Round {aRound + 1}: Current stats\")\n",
    "        for player in society:\n",
    "            print(f\"{player['name']} - Score: {player['score']} - Last Strategy: {player['strategy']}\")\n",
    "    \n",
    "    # Dynamic plot\n",
    "    plt.bar(results.keys(), results.values(), color=['blue', 'orange', 'green'])\n",
    "    plt.title(\"Live Tournament Results\")\n",
    "    plt.xlabel(\"Choice\")\n",
    "    plt.ylabel(\"Count\")\n",
    "    plt.show()\n",
    "    \n",
    "# Determinar ganadores\n",
    "society.sort(key=lambda x: x['score'], reverse=True)\n",
    "print(\"\\nFinal Standings:\")\n",
    "for player in society:\n",
    "    print(f\"{player['name']} - Final Score: {player['score']}\")\n",
    "\n",
    "# Ganador absoluto\n",
    "winner = society[0]\n",
    "print(f\"\\nWinner: {winner['name']} with {winner['score']} points!\")"
   ]
  },
  {
   "cell_type": "markdown",
   "metadata": {
    "id": "MbHLxwE-_COD"
   },
   "source": [
    "### Exercise 2\n",
    "<div class=\"alert-success\">\n",
    "\n",
    "How would you implement this game for 10 players, and get the results?\n",
    "    \n",
    "</div>\n",
    "<img src=\"https://i.imgur.com/DE5mjs4.jpg\"/>\n"
   ]
  },
  {
   "cell_type": "code",
   "execution_count": 213,
   "metadata": {},
   "outputs": [],
   "source": [
    "strategies=['Rock','Paper','Scissors','Lizard','Spock']"
   ]
  },
  {
   "cell_type": "code",
   "execution_count": 215,
   "metadata": {},
   "outputs": [],
   "source": [
    "payoff={('Rock','Paper'):(0,1),\n",
    "        ('Paper','Rock'):(1,0),\n",
    "        ('Rock','Scissors'):(1,0),\n",
    "        ('Scissors','Rock'):(0,1),\n",
    "        ('Paper','Scissors'):(0,1),\n",
    "        ('Scissors','Paper'):(1,0),\n",
    "        ('Rock','Rock'):(0,0),\n",
    "        ('Paper','Paper'):(0,0),\n",
    "        ('Scissors','Scissors'):(0,0),\n",
    "        \n",
    "        ('Lizard','Paper'):(1,0),\n",
    "        ('Paper','Lizard'):(0,1),\n",
    "        ('Rock','Lizard'):(1,0),\n",
    "        ('Lizard','Rock'):(0,1),\n",
    "        ('Lizard','Scissors'):(0,1),\n",
    "        ('Scissors','Lizard'):(1,0),\n",
    "        ('Lizard','Spock'):(1,0),\n",
    "        ('Spock','Lizard'):(0,1),\n",
    "        ('Lizard','Lizard'):(0,0),\n",
    "\n",
    "        ('Spock','Scissors'):(1,0),\n",
    "        ('Scissors','Spock'):(0,1),\n",
    "        ('Spock','Rock'):(1,0),\n",
    "        ('Rock','Spock'):(0,1),\n",
    "        ('Spock','Paper'):(0,1),\n",
    "        ('Paper','Spock'):(1,0),\n",
    "        ('Spock','Spock'):(0,0)}"
   ]
  },
  {
   "cell_type": "code",
   "execution_count": 217,
   "metadata": {},
   "outputs": [],
   "source": [
    "Players=[{'name':'John','score':0,'strategy':None},\n",
    "         {'name':'Mary','score':0,'strategy':None}]"
   ]
  },
  {
   "cell_type": "code",
   "execution_count": 219,
   "metadata": {},
   "outputs": [],
   "source": [
    "from random import choice\n",
    "\n",
    "#simplest strategy: choose randomly\n",
    "choice(strategies);"
   ]
  },
  {
   "cell_type": "code",
   "execution_count": 221,
   "metadata": {
    "id": "bkXDhVC5_COB"
   },
   "outputs": [],
   "source": [
    "# update agents situation\n",
    "Players[0]['score']+=result[0]\n",
    "Players[1]['score']+=result[1]"
   ]
  },
  {
   "cell_type": "code",
   "execution_count": 223,
   "metadata": {
    "id": "rmVGKtfn_COB"
   },
   "outputs": [
    {
     "data": {
      "text/plain": [
       "[{'name': 'John', 'score': 0, 'strategy': None},\n",
       " {'name': 'Mary', 'score': 0, 'strategy': None}]"
      ]
     },
     "execution_count": 223,
     "metadata": {},
     "output_type": "execute_result"
    }
   ],
   "source": [
    "# current agent situation\n",
    "Players"
   ]
  },
  {
   "cell_type": "code",
   "execution_count": 225,
   "metadata": {
    "id": "66lrZv8s_COC"
   },
   "outputs": [
    {
     "data": {
      "text/html": [
       "<div>\n",
       "<style scoped>\n",
       "    .dataframe tbody tr th:only-of-type {\n",
       "        vertical-align: middle;\n",
       "    }\n",
       "\n",
       "    .dataframe tbody tr th {\n",
       "        vertical-align: top;\n",
       "    }\n",
       "\n",
       "    .dataframe thead th {\n",
       "        text-align: right;\n",
       "    }\n",
       "</style>\n",
       "<table border=\"1\" class=\"dataframe\">\n",
       "  <thead>\n",
       "    <tr style=\"text-align: right;\">\n",
       "      <th></th>\n",
       "      <th>name</th>\n",
       "      <th>score</th>\n",
       "      <th>strategy</th>\n",
       "    </tr>\n",
       "  </thead>\n",
       "  <tbody>\n",
       "    <tr>\n",
       "      <th>0</th>\n",
       "      <td>John</td>\n",
       "      <td>0</td>\n",
       "      <td>None</td>\n",
       "    </tr>\n",
       "    <tr>\n",
       "      <th>1</th>\n",
       "      <td>Mary</td>\n",
       "      <td>0</td>\n",
       "      <td>None</td>\n",
       "    </tr>\n",
       "  </tbody>\n",
       "</table>\n",
       "</div>"
      ],
      "text/plain": [
       "   name  score strategy\n",
       "0  John      0     None\n",
       "1  Mary      0     None"
      ]
     },
     "execution_count": 225,
     "metadata": {},
     "output_type": "execute_result"
    }
   ],
   "source": [
    "import pandas as pd\n",
    "\n",
    "socialResults=pd.DataFrame((Players[0], Players[1]))\n",
    "socialResults"
   ]
  },
  {
   "cell_type": "code",
   "execution_count": 227,
   "metadata": {
    "id": "zntCim9z_COC"
   },
   "outputs": [
    {
     "data": {
      "text/html": [
       "<div>\n",
       "<style scoped>\n",
       "    .dataframe tbody tr th:only-of-type {\n",
       "        vertical-align: middle;\n",
       "    }\n",
       "\n",
       "    .dataframe tbody tr th {\n",
       "        vertical-align: top;\n",
       "    }\n",
       "\n",
       "    .dataframe thead th {\n",
       "        text-align: right;\n",
       "    }\n",
       "</style>\n",
       "<table border=\"1\" class=\"dataframe\">\n",
       "  <thead>\n",
       "    <tr style=\"text-align: right;\">\n",
       "      <th></th>\n",
       "      <th>name</th>\n",
       "      <th>score</th>\n",
       "      <th>strategy</th>\n",
       "    </tr>\n",
       "  </thead>\n",
       "  <tbody>\n",
       "    <tr>\n",
       "      <th>0</th>\n",
       "      <td>John</td>\n",
       "      <td>0</td>\n",
       "      <td>None</td>\n",
       "    </tr>\n",
       "    <tr>\n",
       "      <th>1</th>\n",
       "      <td>Mary</td>\n",
       "      <td>0</td>\n",
       "      <td>None</td>\n",
       "    </tr>\n",
       "  </tbody>\n",
       "</table>\n",
       "</div>"
      ],
      "text/plain": [
       "   name  score strategy\n",
       "0  John      0     None\n",
       "1  Mary      0     None"
      ]
     },
     "execution_count": 227,
     "metadata": {},
     "output_type": "execute_result"
    }
   ],
   "source": [
    "winnerScore=socialResults.score.max()\n",
    "\n",
    "#social outcome\n",
    "socialResults[socialResults.score==winnerScore]"
   ]
  },
  {
   "cell_type": "code",
   "execution_count": 229,
   "metadata": {
    "id": "PPmoPuAL_COC"
   },
   "outputs": [],
   "source": [
    "# names of players\n",
    "names=['Jim','Jane','Peter','Zoe']"
   ]
  },
  {
   "cell_type": "code",
   "execution_count": 231,
   "metadata": {
    "id": "1cNflkqj_COC"
   },
   "outputs": [],
   "source": [
    "# setting up players\n",
    "society=[{'name':n,'score':0,'strategy':None} for n in names]"
   ]
  },
  {
   "cell_type": "code",
   "execution_count": 233,
   "metadata": {
    "id": "70hFQV0D_COC"
   },
   "outputs": [
    {
     "data": {
      "text/plain": [
       "[{'name': 'Jim', 'score': 0, 'strategy': None},\n",
       " {'name': 'Jane', 'score': 0, 'strategy': None},\n",
       " {'name': 'Peter', 'score': 0, 'strategy': None},\n",
       " {'name': 'Zoe', 'score': 0, 'strategy': None}]"
      ]
     },
     "execution_count": 233,
     "metadata": {},
     "output_type": "execute_result"
    }
   ],
   "source": [
    "# each player a dict:\n",
    "society"
   ]
  },
  {
   "cell_type": "code",
   "execution_count": 235,
   "metadata": {
    "id": "aqFCtU2D_COC"
   },
   "outputs": [
    {
     "name": "stdout",
     "output_type": "stream",
     "text": [
      "({'name': 'Jim', 'score': 0, 'strategy': None}, {'name': 'Jane', 'score': 0, 'strategy': None})\n",
      "({'name': 'Jim', 'score': 0, 'strategy': None}, {'name': 'Peter', 'score': 0, 'strategy': None})\n",
      "({'name': 'Jim', 'score': 0, 'strategy': None}, {'name': 'Zoe', 'score': 0, 'strategy': None})\n",
      "({'name': 'Jane', 'score': 0, 'strategy': None}, {'name': 'Peter', 'score': 0, 'strategy': None})\n",
      "({'name': 'Jane', 'score': 0, 'strategy': None}, {'name': 'Zoe', 'score': 0, 'strategy': None})\n",
      "({'name': 'Peter', 'score': 0, 'strategy': None}, {'name': 'Zoe', 'score': 0, 'strategy': None})\n"
     ]
    }
   ],
   "source": [
    "import itertools\n",
    "\n",
    "# pair is a tuple of dicts\n",
    "for pair in itertools.combinations(society,2):\n",
    "    print(pair)"
   ]
  },
  {
   "cell_type": "code",
   "execution_count": 237,
   "metadata": {
    "id": "cFvBplMV_COC"
   },
   "outputs": [
    {
     "name": "stdout",
     "output_type": "stream",
     "text": [
      "{'name': 'Jim', 'score': 0, 'strategy': None} {'name': 'Jane', 'score': 0, 'strategy': None}\n",
      "{'name': 'Jim', 'score': 0, 'strategy': None} {'name': 'Peter', 'score': 0, 'strategy': None}\n",
      "{'name': 'Jim', 'score': 0, 'strategy': None} {'name': 'Zoe', 'score': 0, 'strategy': None}\n",
      "{'name': 'Jane', 'score': 0, 'strategy': None} {'name': 'Peter', 'score': 0, 'strategy': None}\n",
      "{'name': 'Jane', 'score': 0, 'strategy': None} {'name': 'Zoe', 'score': 0, 'strategy': None}\n",
      "{'name': 'Peter', 'score': 0, 'strategy': None} {'name': 'Zoe', 'score': 0, 'strategy': None}\n"
     ]
    }
   ],
   "source": [
    "import itertools\n",
    "\n",
    "# each dict\n",
    "for player1,player2 in itertools.combinations(society,2):\n",
    "    print(player1,player2)"
   ]
  },
  {
   "cell_type": "code",
   "execution_count": 239,
   "metadata": {
    "id": "-xtyPc-5_COC"
   },
   "outputs": [],
   "source": [
    "# resetting society\n",
    "society=[{'name':n,'score':0,'strategy':None} for n in names]\n",
    "\n",
    "# several rounds\n",
    "for aRound in range(100):\n",
    "    \n",
    "    # en each round:\n",
    "    for player1,player2 in itertools.combinations(society,2):\n",
    "        # each chooses strategy\n",
    "        player1['strategy']=choice(strategies)\n",
    "        \n",
    "        player2['strategy']=choice(strategies)\n",
    "        \n",
    "        # result from strategy chosen\n",
    "        result=payoff[player1['strategy'],player2['strategy']]\n",
    "            \n",
    "        # update scores\n",
    "        player1['score']+=result[0]\n",
    "        player2['score']+=result[1]\n",
    "    "
   ]
  },
  {
   "cell_type": "code",
   "execution_count": 241,
   "metadata": {
    "id": "AtT2diWE_COD"
   },
   "outputs": [
    {
     "data": {
      "text/plain": [
       "[{'name': 'Jim', 'score': 124, 'strategy': 'Spock'},\n",
       " {'name': 'Jane', 'score': 126, 'strategy': 'Spock'},\n",
       " {'name': 'Peter', 'score': 112, 'strategy': 'Paper'},\n",
       " {'name': 'Zoe', 'score': 111, 'strategy': 'Paper'}]"
      ]
     },
     "execution_count": 241,
     "metadata": {},
     "output_type": "execute_result"
    }
   ],
   "source": [
    "# final situation\n",
    "society"
   ]
  },
  {
   "cell_type": "code",
   "execution_count": 243,
   "metadata": {
    "id": "rVcFgFF4_COD"
   },
   "outputs": [
    {
     "data": {
      "text/html": [
       "<div>\n",
       "<style scoped>\n",
       "    .dataframe tbody tr th:only-of-type {\n",
       "        vertical-align: middle;\n",
       "    }\n",
       "\n",
       "    .dataframe tbody tr th {\n",
       "        vertical-align: top;\n",
       "    }\n",
       "\n",
       "    .dataframe thead th {\n",
       "        text-align: right;\n",
       "    }\n",
       "</style>\n",
       "<table border=\"1\" class=\"dataframe\">\n",
       "  <thead>\n",
       "    <tr style=\"text-align: right;\">\n",
       "      <th></th>\n",
       "      <th>name</th>\n",
       "      <th>score</th>\n",
       "      <th>strategy</th>\n",
       "    </tr>\n",
       "  </thead>\n",
       "  <tbody>\n",
       "    <tr>\n",
       "      <th>0</th>\n",
       "      <td>Jim</td>\n",
       "      <td>124</td>\n",
       "      <td>Spock</td>\n",
       "    </tr>\n",
       "    <tr>\n",
       "      <th>1</th>\n",
       "      <td>Jane</td>\n",
       "      <td>126</td>\n",
       "      <td>Spock</td>\n",
       "    </tr>\n",
       "    <tr>\n",
       "      <th>2</th>\n",
       "      <td>Peter</td>\n",
       "      <td>112</td>\n",
       "      <td>Paper</td>\n",
       "    </tr>\n",
       "    <tr>\n",
       "      <th>3</th>\n",
       "      <td>Zoe</td>\n",
       "      <td>111</td>\n",
       "      <td>Paper</td>\n",
       "    </tr>\n",
       "  </tbody>\n",
       "</table>\n",
       "</div>"
      ],
      "text/plain": [
       "    name  score strategy\n",
       "0    Jim    124    Spock\n",
       "1   Jane    126    Spock\n",
       "2  Peter    112    Paper\n",
       "3    Zoe    111    Paper"
      ]
     },
     "execution_count": 243,
     "metadata": {},
     "output_type": "execute_result"
    }
   ],
   "source": [
    "# as a data frame\n",
    "socialResults=pd.DataFrame(society)\n",
    "socialResults"
   ]
  },
  {
   "cell_type": "code",
   "execution_count": 245,
   "metadata": {
    "id": "ttej-ElI_COD"
   },
   "outputs": [
    {
     "data": {
      "text/html": [
       "<div>\n",
       "<style scoped>\n",
       "    .dataframe tbody tr th:only-of-type {\n",
       "        vertical-align: middle;\n",
       "    }\n",
       "\n",
       "    .dataframe tbody tr th {\n",
       "        vertical-align: top;\n",
       "    }\n",
       "\n",
       "    .dataframe thead th {\n",
       "        text-align: right;\n",
       "    }\n",
       "</style>\n",
       "<table border=\"1\" class=\"dataframe\">\n",
       "  <thead>\n",
       "    <tr style=\"text-align: right;\">\n",
       "      <th></th>\n",
       "      <th>name</th>\n",
       "      <th>score</th>\n",
       "      <th>strategy</th>\n",
       "    </tr>\n",
       "  </thead>\n",
       "  <tbody>\n",
       "    <tr>\n",
       "      <th>1</th>\n",
       "      <td>Jane</td>\n",
       "      <td>126</td>\n",
       "      <td>Spock</td>\n",
       "    </tr>\n",
       "  </tbody>\n",
       "</table>\n",
       "</div>"
      ],
      "text/plain": [
       "   name  score strategy\n",
       "1  Jane    126    Spock"
      ]
     },
     "execution_count": 245,
     "metadata": {},
     "output_type": "execute_result"
    }
   ],
   "source": [
    "winnerScore=socialResults.score.max()\n",
    "\n",
    "#social outcome\n",
    "socialResults[socialResults.score==winnerScore]"
   ]
  },
  {
   "cell_type": "markdown",
   "metadata": {
    "id": "VtZfBSbz_COD"
   },
   "source": [
    "# Abstraction of agents\n",
    "\n",
    "Let's see some abstraction known 'OOP', which stands for Objetc-Oriented Programming.\n",
    "\n",
    "* This is the creation of an agent object and its methods: Creamos el objeo deel jugador que tendrá algunos mótdos sobre la capacidad de crarse y d enacer. ESte tenddrá un nombre y un scoree. Esta variablee nombree le pertenece a sete mismo y el socree también. Hay un objeto ue refiere a aumentar score.  "
   ]
  },
  {
   "cell_type": "code",
   "execution_count": 248,
   "metadata": {
    "id": "J0mMF0zS_COE"
   },
   "outputs": [],
   "source": [
    "class Player:    # object class\n",
    "\n",
    "    def __init__(self,name,score=0): # create the object (self) for the class\n",
    "        self.name=name               # with some variables\n",
    "        self.score=score\n",
    "\n",
    "    def increase_score(self,value):  # metho for object class\n",
    "        self.score+=value"
   ]
  },
  {
   "cell_type": "markdown",
   "metadata": {
    "id": "zDh5eZ6d_COE"
   },
   "source": [
    "Once created, you can give origin to instances of the object: Con esto creaas dos agentes. El score es 0, es un default."
   ]
  },
  {
   "cell_type": "code",
   "execution_count": 251,
   "metadata": {
    "id": "Jhy02Xxo_COE"
   },
   "outputs": [],
   "source": [
    "Mary=Player(\"Mary\")\n",
    "John=Player(\"John\")"
   ]
  },
  {
   "cell_type": "markdown",
   "metadata": {
    "id": "36F3-PDP_COE"
   },
   "source": [
    "Let's use some previous code: Estas serían las estrategias desde un código previo"
   ]
  },
  {
   "cell_type": "code",
   "execution_count": 254,
   "metadata": {
    "id": "WNZ-yE-0_COI"
   },
   "outputs": [
    {
     "data": {
      "text/plain": [
       "(1, 0)"
      ]
     },
     "execution_count": 254,
     "metadata": {},
     "output_type": "execute_result"
    }
   ],
   "source": [
    "John_strategy=choice(strategies)\n",
    "Mary_strategy=choice(strategies)\n",
    "\n",
    "John_PayOff,Mary_PayOff=payoff[John_strategy,Mary_strategy]\n",
    "John_PayOff,Mary_PayOff"
   ]
  },
  {
   "cell_type": "markdown",
   "metadata": {
    "id": "J_jU1UW2_COI"
   },
   "source": [
    "We use those values to change the instaces' variables, as defined in the object class:"
   ]
  },
  {
   "cell_type": "code",
   "execution_count": 257,
   "metadata": {
    "id": "SC2egMbT_COI"
   },
   "outputs": [],
   "source": [
    "John.increase_score(John_PayOff)\n",
    "Mary.increase_score(Mary_PayOff)"
   ]
  },
  {
   "cell_type": "markdown",
   "metadata": {
    "id": "EGnxh718_COJ"
   },
   "source": [
    "The instances did update the score: Estamos codificando, entrando al Python"
   ]
  },
  {
   "cell_type": "code",
   "execution_count": 260,
   "metadata": {
    "id": "xG23htuV_COJ"
   },
   "outputs": [
    {
     "data": {
      "text/plain": [
       "(1, 0)"
      ]
     },
     "execution_count": 260,
     "metadata": {},
     "output_type": "execute_result"
    }
   ],
   "source": [
    "John.score, Mary.score"
   ]
  },
  {
   "cell_type": "markdown",
   "metadata": {
    "id": "WumcFe1z_COJ"
   },
   "source": [
    "* A new class that inherists previous class: (Programación antigua)"
   ]
  },
  {
   "cell_type": "code",
   "execution_count": 263,
   "metadata": {
    "id": "IOlEl2tf_COJ"
   },
   "outputs": [],
   "source": [
    "class PlayerBetter(Player):\n",
    "    def __init__(self,name,score=0):\n",
    "        Player.__init__(self,name,score=0) #Ya existe el player, podemos crear una clase que sea mejor (better player)\n",
    "        self.strategy=None\n",
    "\n",
    "    def increase_score(self,value):\n",
    "        self.score+=value\n",
    "\n",
    "    def get_strategy(self): #De esto, se elige uno.\n",
    "        from random import choice\n",
    "        strategies=['Rock','Paper','Scissors']\n",
    "        self.strategy=choice(strategies)\n",
    "        return self.strategy"
   ]
  },
  {
   "cell_type": "markdown",
   "metadata": {
    "id": "vcLSj7bm_COJ"
   },
   "source": [
    "We can use the new class:"
   ]
  },
  {
   "cell_type": "code",
   "execution_count": 266,
   "metadata": {
    "id": "lksgXsG1_COJ"
   },
   "outputs": [
    {
     "data": {
      "text/plain": [
       "(1, 0)"
      ]
     },
     "execution_count": 266,
     "metadata": {},
     "output_type": "execute_result"
    }
   ],
   "source": [
    "Mary=PlayerBetter(\"Mary\")\n",
    "John=PlayerBetter(\"John\")\n",
    "\n",
    "# No vamos a ncesitar esto porque el payoff refiere a que cada uno tendrá su estrategia.\n",
    "# John_strategy=choice(strategies)\n",
    "# Mary_strategy=choice(strategies)\n",
    "\n",
    "John_PayOff,Mary_PayOff=payoff[John.get_strategy(),Mary.get_strategy()]\n",
    "John.increase_score(John_PayOff)\n",
    "Mary.increase_score(Mary_PayOff)\n",
    "##\n",
    "John.score, Mary.score"
   ]
  },
  {
   "cell_type": "markdown",
   "metadata": {
    "id": "ff43AwmC_COJ"
   },
   "source": [
    "The new class saves the current strategy:"
   ]
  },
  {
   "cell_type": "code",
   "execution_count": 269,
   "metadata": {
    "id": "RwT5q7I__COJ"
   },
   "outputs": [
    {
     "name": "stdout",
     "output_type": "stream",
     "text": [
      "Rock Scissors\n"
     ]
    }
   ],
   "source": [
    "print(John.strategy, Mary.strategy) "
   ]
  },
  {
   "cell_type": "markdown",
   "metadata": {
    "id": "Pcmk5lQI_COK"
   },
   "source": [
    "We can use the new class repeatedly: Lo hacemos de manera repetida"
   ]
  },
  {
   "cell_type": "code",
   "execution_count": 272,
   "metadata": {
    "id": "Iz3eWKHv_COK"
   },
   "outputs": [
    {
     "name": "stdout",
     "output_type": "stream",
     "text": [
      "round: 1\n",
      "0 1\n",
      "Scissors Rock\n",
      "round: 2\n",
      "0 2\n",
      "Paper Scissors\n",
      "round: 3\n",
      "1 2\n",
      "Scissors Paper\n",
      "round: 4\n",
      "2 2\n",
      "Rock Scissors\n",
      "round: 5\n",
      "3 2\n",
      "Rock Scissors\n",
      "round: 6\n",
      "3 3\n",
      "Scissors Rock\n",
      "round: 7\n",
      "3 3\n",
      "Rock Rock\n",
      "round: 8\n",
      "3 4\n",
      "Rock Paper\n",
      "round: 9\n",
      "3 4\n",
      "Scissors Scissors\n",
      "round: 10\n",
      "4 4\n",
      "Scissors Paper\n"
     ]
    }
   ],
   "source": [
    "Mary=PlayerBetter(\"Mary\")\n",
    "John=PlayerBetter(\"John\")\n",
    "\n",
    "for i in range(10):\n",
    "    John_PayOff,Mary_PayOff=payoff[John.get_strategy(),Mary.get_strategy()]\n",
    "    John.increase_score(John_PayOff)\n",
    "    Mary.increase_score(Mary_PayOff)\n",
    "    # see current result\n",
    "    print('round:',i+1)\n",
    "    print(John.score, Mary.score)\n",
    "    print(John.strategy, Mary.strategy)"
   ]
  },
  {
   "cell_type": "markdown",
   "metadata": {
    "id": "F-_7IThA_COK"
   },
   "source": [
    "<div class=\"alert alert-danger\">\n",
    "  <strong>CHALLENGE!</strong>\n",
    "   <br> * Create classes that allows you to have several players play 100 rounds.\n",
    "   <br> * Save the scores.\n",
    "   <br> * Declare a winner\n",
    "</div>"
   ]
  },
  {
   "cell_type": "code",
   "execution_count": 275,
   "metadata": {
    "id": "fm845pCH_CN9"
   },
   "outputs": [],
   "source": [
    "strategies=['Rock','Paper','Scissors']"
   ]
  },
  {
   "cell_type": "markdown",
   "metadata": {
    "id": "ISjHpRRu_CN-"
   },
   "source": [
    "## Rules\n",
    "\n",
    "The rules tell you that according to a strategy followed, players get a pay-off:"
   ]
  },
  {
   "cell_type": "code",
   "execution_count": 278,
   "metadata": {
    "id": "PB3VqT9W_CN-"
   },
   "outputs": [],
   "source": [
    "payoff={('Rock','Paper'):(0,1),\n",
    "        ('Paper','Rock'):(1,0),\n",
    "        ('Rock','Scissors'):(1,0),\n",
    "        ('Scissors','Rock'):(0,1),\n",
    "        ('Paper','Scissors'):(0,1),\n",
    "        ('Scissors','Paper'):(1,0),\n",
    "        ('Rock','Rock'):(0,0),\n",
    "        ('Paper','Paper'):(0,0),\n",
    "        ('Scissors','Scissors'):(0,0)}"
   ]
  },
  {
   "cell_type": "markdown",
   "metadata": {
    "id": "Pm2Z5tjw_CN_"
   },
   "source": [
    "## Creating and setting up agents:\n",
    "\n",
    "Players have a name, but have no score, and no strategy yet."
   ]
  },
  {
   "cell_type": "code",
   "execution_count": 281,
   "metadata": {
    "id": "b1Ol8rU5_CN_"
   },
   "outputs": [],
   "source": [
    "Players=[{'name':'Carlos M','score':0,'strategy':None},\n",
    "         {'name':'Bruno R','score':0,'strategy':None},\n",
    "         {'name':'Alfredo A','score':0,'strategy':None},\n",
    "         {'name':'Romina L','score':0,'strategy':None},\n",
    "        {'name':'Mori','score':0,'strategy':None},\n",
    "        {'name':'Sergio T','score':0,'strategy':None},\n",
    "        {'name':'Diego T','score':0,'strategy':None},\n",
    "        {'name':'Elizabeth G','score':0,'strategy':None},\n",
    "        {'name':'Joaquín PUCP','score':0,'strategy':None},\n",
    "        {'name':'Juan de Dios','score':0,'strategy':None},\n",
    "        {'name':'Hiroshi E','score':0,'strategy':None},\n",
    "        {'name':'Bruno U','score':0,'strategy':None},\n",
    "        {'name':'Jovverson','score':0,'strategy':None},\n",
    "        {'name':'Solange N','score':0,'strategy':None},\n",
    "        {'name':'Lara P','score':0,'strategy':None},\n",
    "        {'name':'Fernanda T','score':0,'strategy':None},\n",
    "        {'name':'Lucciana R','score':0,'strategy':None},\n",
    "        {'name':'Micaela C','score':0,'strategy':None}]"
   ]
  },
  {
   "cell_type": "markdown",
   "metadata": {
    "id": "43Gv1kRP_CN_"
   },
   "source": [
    "## Decision making process\n",
    "\n",
    "This is the process to choose an strategy: \n",
    "Esto podría tener un montón de líneas, pero se eligen al azar. Esta es la mejor estrategia (el azar) en esta simulación de elegir piedra, papel o tigeras. Sin embargo, podríamos asignar las probabilidades para ganar sobre cada situación. "
   ]
  },
  {
   "cell_type": "code",
   "execution_count": 284,
   "metadata": {
    "id": "bBwMGruW_CN_"
   },
   "outputs": [],
   "source": [
    "from random import choice\n",
    "\n",
    "#simplest strategy: choose randomly\n",
    "choice(strategies);"
   ]
  },
  {
   "cell_type": "markdown",
   "metadata": {
    "id": "LFh0aw64_COA"
   },
   "source": [
    "## The moment of truth"
   ]
  },
  {
   "cell_type": "markdown",
   "metadata": {
    "id": "chBgz1nT_COA"
   },
   "source": [
    "* ### agent decide strategy"
   ]
  },
  {
   "cell_type": "code",
   "execution_count": 288,
   "metadata": {
    "id": "YG-SYxZx_COA"
   },
   "outputs": [],
   "source": [
    "Players[0]['strategy']=choice(strategies)\n",
    "Players[1]['strategy']=choice(strategies)"
   ]
  },
  {
   "cell_type": "markdown",
   "metadata": {
    "id": "0g0_9Zm9_COA"
   },
   "source": [
    "* ### decisions made"
   ]
  },
  {
   "cell_type": "code",
   "execution_count": 291,
   "metadata": {
    "id": "HkMjlahz_COB"
   },
   "outputs": [
    {
     "data": {
      "text/plain": [
       "('Scissors', 'Rock')"
      ]
     },
     "execution_count": 291,
     "metadata": {},
     "output_type": "execute_result"
    }
   ],
   "source": [
    "Players[0]['strategy'],Players[1]['strategy']"
   ]
  },
  {
   "cell_type": "code",
   "execution_count": 293,
   "metadata": {
    "id": "fHQgkMyH_COB"
   },
   "outputs": [
    {
     "data": {
      "text/plain": [
       "(0, 1)"
      ]
     },
     "execution_count": 293,
     "metadata": {},
     "output_type": "execute_result"
    }
   ],
   "source": [
    "# social result of individual decision\n",
    "result = payoff[Players[0]['strategy'],Players[1]['strategy']]\n",
    "result"
   ]
  },
  {
   "cell_type": "markdown",
   "metadata": {},
   "source": [
    "Este es el jugador qquien gana"
   ]
  },
  {
   "cell_type": "markdown",
   "metadata": {
    "id": "_3OEEGsc_COB"
   },
   "source": [
    "* ### agent benefits/suffers from decision made"
   ]
  },
  {
   "cell_type": "code",
   "execution_count": 297,
   "metadata": {
    "id": "bkXDhVC5_COB"
   },
   "outputs": [],
   "source": [
    "# update agents situation\n",
    "Players[0]['score']+=result[0]\n",
    "Players[1]['score']+=result[1]"
   ]
  },
  {
   "cell_type": "code",
   "execution_count": 299,
   "metadata": {
    "id": "rmVGKtfn_COB"
   },
   "outputs": [
    {
     "data": {
      "text/plain": [
       "[{'name': 'Carlos M', 'score': 0, 'strategy': 'Scissors'},\n",
       " {'name': 'Bruno R', 'score': 1, 'strategy': 'Rock'},\n",
       " {'name': 'Alfredo A', 'score': 0, 'strategy': None},\n",
       " {'name': 'Romina L', 'score': 0, 'strategy': None},\n",
       " {'name': 'Mori', 'score': 0, 'strategy': None},\n",
       " {'name': 'Sergio T', 'score': 0, 'strategy': None},\n",
       " {'name': 'Diego T', 'score': 0, 'strategy': None},\n",
       " {'name': 'Elizabeth G', 'score': 0, 'strategy': None},\n",
       " {'name': 'Joaquín PUCP', 'score': 0, 'strategy': None},\n",
       " {'name': 'Juan de Dios', 'score': 0, 'strategy': None},\n",
       " {'name': 'Hiroshi E', 'score': 0, 'strategy': None},\n",
       " {'name': 'Bruno U', 'score': 0, 'strategy': None},\n",
       " {'name': 'Jovverson', 'score': 0, 'strategy': None},\n",
       " {'name': 'Solange N', 'score': 0, 'strategy': None},\n",
       " {'name': 'Lara P', 'score': 0, 'strategy': None},\n",
       " {'name': 'Fernanda T', 'score': 0, 'strategy': None},\n",
       " {'name': 'Lucciana R', 'score': 0, 'strategy': None},\n",
       " {'name': 'Micaela C', 'score': 0, 'strategy': None}]"
      ]
     },
     "execution_count": 299,
     "metadata": {},
     "output_type": "execute_result"
    }
   ],
   "source": [
    "# current agent situation\n",
    "Players"
   ]
  },
  {
   "cell_type": "markdown",
   "metadata": {},
   "source": [
    "Situación de elos agentes. Es la última decisión de cada uno. Puedes guardar los recuerdos y las veces que ganaste. "
   ]
  },
  {
   "cell_type": "markdown",
   "metadata": {
    "id": "m7XyzWI5_COB"
   },
   "source": [
    "* ### social outcome"
   ]
  },
  {
   "cell_type": "code",
   "execution_count": 303,
   "metadata": {
    "id": "66lrZv8s_COC"
   },
   "outputs": [
    {
     "data": {
      "text/html": [
       "<div>\n",
       "<style scoped>\n",
       "    .dataframe tbody tr th:only-of-type {\n",
       "        vertical-align: middle;\n",
       "    }\n",
       "\n",
       "    .dataframe tbody tr th {\n",
       "        vertical-align: top;\n",
       "    }\n",
       "\n",
       "    .dataframe thead th {\n",
       "        text-align: right;\n",
       "    }\n",
       "</style>\n",
       "<table border=\"1\" class=\"dataframe\">\n",
       "  <thead>\n",
       "    <tr style=\"text-align: right;\">\n",
       "      <th></th>\n",
       "      <th>name</th>\n",
       "      <th>score</th>\n",
       "      <th>strategy</th>\n",
       "    </tr>\n",
       "  </thead>\n",
       "  <tbody>\n",
       "    <tr>\n",
       "      <th>0</th>\n",
       "      <td>Carlos M</td>\n",
       "      <td>0</td>\n",
       "      <td>Scissors</td>\n",
       "    </tr>\n",
       "    <tr>\n",
       "      <th>1</th>\n",
       "      <td>Bruno R</td>\n",
       "      <td>1</td>\n",
       "      <td>Rock</td>\n",
       "    </tr>\n",
       "  </tbody>\n",
       "</table>\n",
       "</div>"
      ],
      "text/plain": [
       "       name  score  strategy\n",
       "0  Carlos M      0  Scissors\n",
       "1   Bruno R      1      Rock"
      ]
     },
     "execution_count": 303,
     "metadata": {},
     "output_type": "execute_result"
    }
   ],
   "source": [
    "import pandas as pd\n",
    "\n",
    "socialResults=pd.DataFrame((Players[0], Players[1]))\n",
    "socialResults"
   ]
  },
  {
   "cell_type": "markdown",
   "metadata": {},
   "source": [
    "Es otra forma de ver los resultados."
   ]
  },
  {
   "cell_type": "code",
   "execution_count": 306,
   "metadata": {
    "id": "zntCim9z_COC"
   },
   "outputs": [
    {
     "data": {
      "text/html": [
       "<div>\n",
       "<style scoped>\n",
       "    .dataframe tbody tr th:only-of-type {\n",
       "        vertical-align: middle;\n",
       "    }\n",
       "\n",
       "    .dataframe tbody tr th {\n",
       "        vertical-align: top;\n",
       "    }\n",
       "\n",
       "    .dataframe thead th {\n",
       "        text-align: right;\n",
       "    }\n",
       "</style>\n",
       "<table border=\"1\" class=\"dataframe\">\n",
       "  <thead>\n",
       "    <tr style=\"text-align: right;\">\n",
       "      <th></th>\n",
       "      <th>name</th>\n",
       "      <th>score</th>\n",
       "      <th>strategy</th>\n",
       "    </tr>\n",
       "  </thead>\n",
       "  <tbody>\n",
       "    <tr>\n",
       "      <th>1</th>\n",
       "      <td>Bruno R</td>\n",
       "      <td>1</td>\n",
       "      <td>Rock</td>\n",
       "    </tr>\n",
       "  </tbody>\n",
       "</table>\n",
       "</div>"
      ],
      "text/plain": [
       "      name  score strategy\n",
       "1  Bruno R      1     Rock"
      ]
     },
     "execution_count": 306,
     "metadata": {},
     "output_type": "execute_result"
    }
   ],
   "source": [
    "winnerScore=socialResults.score.max()\n",
    "\n",
    "#social outcome\n",
    "socialResults[socialResults.score==winnerScore]"
   ]
  },
  {
   "cell_type": "code",
   "execution_count": null,
   "metadata": {},
   "outputs": [],
   "source": []
  },
  {
   "cell_type": "markdown",
   "metadata": {
    "id": "YZKPSjHL_COC"
   },
   "source": [
    "# More players"
   ]
  },
  {
   "cell_type": "code",
   "execution_count": 310,
   "metadata": {
    "id": "PPmoPuAL_COC"
   },
   "outputs": [],
   "source": [
    "# names of players\n",
    "names=['Carlos M','Bruno R','Alfredo A','Romina L', 'Mori', 'Sergio T', 'Diego T', 'Elizabeth G', 'Joaquín PUCP', ' Juan de Dios', \n",
    "       'Hiroshi E', 'Bruno U', 'Jovverson', 'Lara P', 'Fernanda T', 'Lucciana R', 'Micaela C']"
   ]
  },
  {
   "cell_type": "markdown",
   "metadata": {},
   "source": [
    "Con esto creamos una sociedad:"
   ]
  },
  {
   "cell_type": "code",
   "execution_count": 313,
   "metadata": {
    "id": "1cNflkqj_COC"
   },
   "outputs": [],
   "source": [
    "# setting up players\n",
    "society=[{'name':n,'score':0,'strategy':None} for n in names]"
   ]
  },
  {
   "cell_type": "code",
   "execution_count": 315,
   "metadata": {
    "id": "70hFQV0D_COC"
   },
   "outputs": [
    {
     "data": {
      "text/plain": [
       "[{'name': 'Carlos M', 'score': 0, 'strategy': None},\n",
       " {'name': 'Bruno R', 'score': 0, 'strategy': None},\n",
       " {'name': 'Alfredo A', 'score': 0, 'strategy': None},\n",
       " {'name': 'Romina L', 'score': 0, 'strategy': None},\n",
       " {'name': 'Mori', 'score': 0, 'strategy': None},\n",
       " {'name': 'Sergio T', 'score': 0, 'strategy': None},\n",
       " {'name': 'Diego T', 'score': 0, 'strategy': None},\n",
       " {'name': 'Elizabeth G', 'score': 0, 'strategy': None},\n",
       " {'name': 'Joaquín PUCP', 'score': 0, 'strategy': None},\n",
       " {'name': ' Juan de Dios', 'score': 0, 'strategy': None},\n",
       " {'name': 'Hiroshi E', 'score': 0, 'strategy': None},\n",
       " {'name': 'Bruno U', 'score': 0, 'strategy': None},\n",
       " {'name': 'Jovverson', 'score': 0, 'strategy': None},\n",
       " {'name': 'Lara P', 'score': 0, 'strategy': None},\n",
       " {'name': 'Fernanda T', 'score': 0, 'strategy': None},\n",
       " {'name': 'Lucciana R', 'score': 0, 'strategy': None},\n",
       " {'name': 'Micaela C', 'score': 0, 'strategy': None}]"
      ]
     },
     "execution_count": 315,
     "metadata": {},
     "output_type": "execute_result"
    }
   ],
   "source": [
    "# each player a dict:\n",
    "society"
   ]
  },
  {
   "cell_type": "markdown",
   "metadata": {},
   "source": [
    "Cada quien con score"
   ]
  },
  {
   "cell_type": "code",
   "execution_count": 318,
   "metadata": {
    "id": "aqFCtU2D_COC"
   },
   "outputs": [
    {
     "name": "stdout",
     "output_type": "stream",
     "text": [
      "({'name': 'Carlos M', 'score': 0, 'strategy': None}, {'name': 'Bruno R', 'score': 0, 'strategy': None})\n",
      "({'name': 'Carlos M', 'score': 0, 'strategy': None}, {'name': 'Alfredo A', 'score': 0, 'strategy': None})\n",
      "({'name': 'Carlos M', 'score': 0, 'strategy': None}, {'name': 'Romina L', 'score': 0, 'strategy': None})\n",
      "({'name': 'Carlos M', 'score': 0, 'strategy': None}, {'name': 'Mori', 'score': 0, 'strategy': None})\n",
      "({'name': 'Carlos M', 'score': 0, 'strategy': None}, {'name': 'Sergio T', 'score': 0, 'strategy': None})\n",
      "({'name': 'Carlos M', 'score': 0, 'strategy': None}, {'name': 'Diego T', 'score': 0, 'strategy': None})\n",
      "({'name': 'Carlos M', 'score': 0, 'strategy': None}, {'name': 'Elizabeth G', 'score': 0, 'strategy': None})\n",
      "({'name': 'Carlos M', 'score': 0, 'strategy': None}, {'name': 'Joaquín PUCP', 'score': 0, 'strategy': None})\n",
      "({'name': 'Carlos M', 'score': 0, 'strategy': None}, {'name': ' Juan de Dios', 'score': 0, 'strategy': None})\n",
      "({'name': 'Carlos M', 'score': 0, 'strategy': None}, {'name': 'Hiroshi E', 'score': 0, 'strategy': None})\n",
      "({'name': 'Carlos M', 'score': 0, 'strategy': None}, {'name': 'Bruno U', 'score': 0, 'strategy': None})\n",
      "({'name': 'Carlos M', 'score': 0, 'strategy': None}, {'name': 'Jovverson', 'score': 0, 'strategy': None})\n",
      "({'name': 'Carlos M', 'score': 0, 'strategy': None}, {'name': 'Lara P', 'score': 0, 'strategy': None})\n",
      "({'name': 'Carlos M', 'score': 0, 'strategy': None}, {'name': 'Fernanda T', 'score': 0, 'strategy': None})\n",
      "({'name': 'Carlos M', 'score': 0, 'strategy': None}, {'name': 'Lucciana R', 'score': 0, 'strategy': None})\n",
      "({'name': 'Carlos M', 'score': 0, 'strategy': None}, {'name': 'Micaela C', 'score': 0, 'strategy': None})\n",
      "({'name': 'Bruno R', 'score': 0, 'strategy': None}, {'name': 'Alfredo A', 'score': 0, 'strategy': None})\n",
      "({'name': 'Bruno R', 'score': 0, 'strategy': None}, {'name': 'Romina L', 'score': 0, 'strategy': None})\n",
      "({'name': 'Bruno R', 'score': 0, 'strategy': None}, {'name': 'Mori', 'score': 0, 'strategy': None})\n",
      "({'name': 'Bruno R', 'score': 0, 'strategy': None}, {'name': 'Sergio T', 'score': 0, 'strategy': None})\n",
      "({'name': 'Bruno R', 'score': 0, 'strategy': None}, {'name': 'Diego T', 'score': 0, 'strategy': None})\n",
      "({'name': 'Bruno R', 'score': 0, 'strategy': None}, {'name': 'Elizabeth G', 'score': 0, 'strategy': None})\n",
      "({'name': 'Bruno R', 'score': 0, 'strategy': None}, {'name': 'Joaquín PUCP', 'score': 0, 'strategy': None})\n",
      "({'name': 'Bruno R', 'score': 0, 'strategy': None}, {'name': ' Juan de Dios', 'score': 0, 'strategy': None})\n",
      "({'name': 'Bruno R', 'score': 0, 'strategy': None}, {'name': 'Hiroshi E', 'score': 0, 'strategy': None})\n",
      "({'name': 'Bruno R', 'score': 0, 'strategy': None}, {'name': 'Bruno U', 'score': 0, 'strategy': None})\n",
      "({'name': 'Bruno R', 'score': 0, 'strategy': None}, {'name': 'Jovverson', 'score': 0, 'strategy': None})\n",
      "({'name': 'Bruno R', 'score': 0, 'strategy': None}, {'name': 'Lara P', 'score': 0, 'strategy': None})\n",
      "({'name': 'Bruno R', 'score': 0, 'strategy': None}, {'name': 'Fernanda T', 'score': 0, 'strategy': None})\n",
      "({'name': 'Bruno R', 'score': 0, 'strategy': None}, {'name': 'Lucciana R', 'score': 0, 'strategy': None})\n",
      "({'name': 'Bruno R', 'score': 0, 'strategy': None}, {'name': 'Micaela C', 'score': 0, 'strategy': None})\n",
      "({'name': 'Alfredo A', 'score': 0, 'strategy': None}, {'name': 'Romina L', 'score': 0, 'strategy': None})\n",
      "({'name': 'Alfredo A', 'score': 0, 'strategy': None}, {'name': 'Mori', 'score': 0, 'strategy': None})\n",
      "({'name': 'Alfredo A', 'score': 0, 'strategy': None}, {'name': 'Sergio T', 'score': 0, 'strategy': None})\n",
      "({'name': 'Alfredo A', 'score': 0, 'strategy': None}, {'name': 'Diego T', 'score': 0, 'strategy': None})\n",
      "({'name': 'Alfredo A', 'score': 0, 'strategy': None}, {'name': 'Elizabeth G', 'score': 0, 'strategy': None})\n",
      "({'name': 'Alfredo A', 'score': 0, 'strategy': None}, {'name': 'Joaquín PUCP', 'score': 0, 'strategy': None})\n",
      "({'name': 'Alfredo A', 'score': 0, 'strategy': None}, {'name': ' Juan de Dios', 'score': 0, 'strategy': None})\n",
      "({'name': 'Alfredo A', 'score': 0, 'strategy': None}, {'name': 'Hiroshi E', 'score': 0, 'strategy': None})\n",
      "({'name': 'Alfredo A', 'score': 0, 'strategy': None}, {'name': 'Bruno U', 'score': 0, 'strategy': None})\n",
      "({'name': 'Alfredo A', 'score': 0, 'strategy': None}, {'name': 'Jovverson', 'score': 0, 'strategy': None})\n",
      "({'name': 'Alfredo A', 'score': 0, 'strategy': None}, {'name': 'Lara P', 'score': 0, 'strategy': None})\n",
      "({'name': 'Alfredo A', 'score': 0, 'strategy': None}, {'name': 'Fernanda T', 'score': 0, 'strategy': None})\n",
      "({'name': 'Alfredo A', 'score': 0, 'strategy': None}, {'name': 'Lucciana R', 'score': 0, 'strategy': None})\n",
      "({'name': 'Alfredo A', 'score': 0, 'strategy': None}, {'name': 'Micaela C', 'score': 0, 'strategy': None})\n",
      "({'name': 'Romina L', 'score': 0, 'strategy': None}, {'name': 'Mori', 'score': 0, 'strategy': None})\n",
      "({'name': 'Romina L', 'score': 0, 'strategy': None}, {'name': 'Sergio T', 'score': 0, 'strategy': None})\n",
      "({'name': 'Romina L', 'score': 0, 'strategy': None}, {'name': 'Diego T', 'score': 0, 'strategy': None})\n",
      "({'name': 'Romina L', 'score': 0, 'strategy': None}, {'name': 'Elizabeth G', 'score': 0, 'strategy': None})\n",
      "({'name': 'Romina L', 'score': 0, 'strategy': None}, {'name': 'Joaquín PUCP', 'score': 0, 'strategy': None})\n",
      "({'name': 'Romina L', 'score': 0, 'strategy': None}, {'name': ' Juan de Dios', 'score': 0, 'strategy': None})\n",
      "({'name': 'Romina L', 'score': 0, 'strategy': None}, {'name': 'Hiroshi E', 'score': 0, 'strategy': None})\n",
      "({'name': 'Romina L', 'score': 0, 'strategy': None}, {'name': 'Bruno U', 'score': 0, 'strategy': None})\n",
      "({'name': 'Romina L', 'score': 0, 'strategy': None}, {'name': 'Jovverson', 'score': 0, 'strategy': None})\n",
      "({'name': 'Romina L', 'score': 0, 'strategy': None}, {'name': 'Lara P', 'score': 0, 'strategy': None})\n",
      "({'name': 'Romina L', 'score': 0, 'strategy': None}, {'name': 'Fernanda T', 'score': 0, 'strategy': None})\n",
      "({'name': 'Romina L', 'score': 0, 'strategy': None}, {'name': 'Lucciana R', 'score': 0, 'strategy': None})\n",
      "({'name': 'Romina L', 'score': 0, 'strategy': None}, {'name': 'Micaela C', 'score': 0, 'strategy': None})\n",
      "({'name': 'Mori', 'score': 0, 'strategy': None}, {'name': 'Sergio T', 'score': 0, 'strategy': None})\n",
      "({'name': 'Mori', 'score': 0, 'strategy': None}, {'name': 'Diego T', 'score': 0, 'strategy': None})\n",
      "({'name': 'Mori', 'score': 0, 'strategy': None}, {'name': 'Elizabeth G', 'score': 0, 'strategy': None})\n",
      "({'name': 'Mori', 'score': 0, 'strategy': None}, {'name': 'Joaquín PUCP', 'score': 0, 'strategy': None})\n",
      "({'name': 'Mori', 'score': 0, 'strategy': None}, {'name': ' Juan de Dios', 'score': 0, 'strategy': None})\n",
      "({'name': 'Mori', 'score': 0, 'strategy': None}, {'name': 'Hiroshi E', 'score': 0, 'strategy': None})\n",
      "({'name': 'Mori', 'score': 0, 'strategy': None}, {'name': 'Bruno U', 'score': 0, 'strategy': None})\n",
      "({'name': 'Mori', 'score': 0, 'strategy': None}, {'name': 'Jovverson', 'score': 0, 'strategy': None})\n",
      "({'name': 'Mori', 'score': 0, 'strategy': None}, {'name': 'Lara P', 'score': 0, 'strategy': None})\n",
      "({'name': 'Mori', 'score': 0, 'strategy': None}, {'name': 'Fernanda T', 'score': 0, 'strategy': None})\n",
      "({'name': 'Mori', 'score': 0, 'strategy': None}, {'name': 'Lucciana R', 'score': 0, 'strategy': None})\n",
      "({'name': 'Mori', 'score': 0, 'strategy': None}, {'name': 'Micaela C', 'score': 0, 'strategy': None})\n",
      "({'name': 'Sergio T', 'score': 0, 'strategy': None}, {'name': 'Diego T', 'score': 0, 'strategy': None})\n",
      "({'name': 'Sergio T', 'score': 0, 'strategy': None}, {'name': 'Elizabeth G', 'score': 0, 'strategy': None})\n",
      "({'name': 'Sergio T', 'score': 0, 'strategy': None}, {'name': 'Joaquín PUCP', 'score': 0, 'strategy': None})\n",
      "({'name': 'Sergio T', 'score': 0, 'strategy': None}, {'name': ' Juan de Dios', 'score': 0, 'strategy': None})\n",
      "({'name': 'Sergio T', 'score': 0, 'strategy': None}, {'name': 'Hiroshi E', 'score': 0, 'strategy': None})\n",
      "({'name': 'Sergio T', 'score': 0, 'strategy': None}, {'name': 'Bruno U', 'score': 0, 'strategy': None})\n",
      "({'name': 'Sergio T', 'score': 0, 'strategy': None}, {'name': 'Jovverson', 'score': 0, 'strategy': None})\n",
      "({'name': 'Sergio T', 'score': 0, 'strategy': None}, {'name': 'Lara P', 'score': 0, 'strategy': None})\n",
      "({'name': 'Sergio T', 'score': 0, 'strategy': None}, {'name': 'Fernanda T', 'score': 0, 'strategy': None})\n",
      "({'name': 'Sergio T', 'score': 0, 'strategy': None}, {'name': 'Lucciana R', 'score': 0, 'strategy': None})\n",
      "({'name': 'Sergio T', 'score': 0, 'strategy': None}, {'name': 'Micaela C', 'score': 0, 'strategy': None})\n",
      "({'name': 'Diego T', 'score': 0, 'strategy': None}, {'name': 'Elizabeth G', 'score': 0, 'strategy': None})\n",
      "({'name': 'Diego T', 'score': 0, 'strategy': None}, {'name': 'Joaquín PUCP', 'score': 0, 'strategy': None})\n",
      "({'name': 'Diego T', 'score': 0, 'strategy': None}, {'name': ' Juan de Dios', 'score': 0, 'strategy': None})\n",
      "({'name': 'Diego T', 'score': 0, 'strategy': None}, {'name': 'Hiroshi E', 'score': 0, 'strategy': None})\n",
      "({'name': 'Diego T', 'score': 0, 'strategy': None}, {'name': 'Bruno U', 'score': 0, 'strategy': None})\n",
      "({'name': 'Diego T', 'score': 0, 'strategy': None}, {'name': 'Jovverson', 'score': 0, 'strategy': None})\n",
      "({'name': 'Diego T', 'score': 0, 'strategy': None}, {'name': 'Lara P', 'score': 0, 'strategy': None})\n",
      "({'name': 'Diego T', 'score': 0, 'strategy': None}, {'name': 'Fernanda T', 'score': 0, 'strategy': None})\n",
      "({'name': 'Diego T', 'score': 0, 'strategy': None}, {'name': 'Lucciana R', 'score': 0, 'strategy': None})\n",
      "({'name': 'Diego T', 'score': 0, 'strategy': None}, {'name': 'Micaela C', 'score': 0, 'strategy': None})\n",
      "({'name': 'Elizabeth G', 'score': 0, 'strategy': None}, {'name': 'Joaquín PUCP', 'score': 0, 'strategy': None})\n",
      "({'name': 'Elizabeth G', 'score': 0, 'strategy': None}, {'name': ' Juan de Dios', 'score': 0, 'strategy': None})\n",
      "({'name': 'Elizabeth G', 'score': 0, 'strategy': None}, {'name': 'Hiroshi E', 'score': 0, 'strategy': None})\n",
      "({'name': 'Elizabeth G', 'score': 0, 'strategy': None}, {'name': 'Bruno U', 'score': 0, 'strategy': None})\n",
      "({'name': 'Elizabeth G', 'score': 0, 'strategy': None}, {'name': 'Jovverson', 'score': 0, 'strategy': None})\n",
      "({'name': 'Elizabeth G', 'score': 0, 'strategy': None}, {'name': 'Lara P', 'score': 0, 'strategy': None})\n",
      "({'name': 'Elizabeth G', 'score': 0, 'strategy': None}, {'name': 'Fernanda T', 'score': 0, 'strategy': None})\n",
      "({'name': 'Elizabeth G', 'score': 0, 'strategy': None}, {'name': 'Lucciana R', 'score': 0, 'strategy': None})\n",
      "({'name': 'Elizabeth G', 'score': 0, 'strategy': None}, {'name': 'Micaela C', 'score': 0, 'strategy': None})\n",
      "({'name': 'Joaquín PUCP', 'score': 0, 'strategy': None}, {'name': ' Juan de Dios', 'score': 0, 'strategy': None})\n",
      "({'name': 'Joaquín PUCP', 'score': 0, 'strategy': None}, {'name': 'Hiroshi E', 'score': 0, 'strategy': None})\n",
      "({'name': 'Joaquín PUCP', 'score': 0, 'strategy': None}, {'name': 'Bruno U', 'score': 0, 'strategy': None})\n",
      "({'name': 'Joaquín PUCP', 'score': 0, 'strategy': None}, {'name': 'Jovverson', 'score': 0, 'strategy': None})\n",
      "({'name': 'Joaquín PUCP', 'score': 0, 'strategy': None}, {'name': 'Lara P', 'score': 0, 'strategy': None})\n",
      "({'name': 'Joaquín PUCP', 'score': 0, 'strategy': None}, {'name': 'Fernanda T', 'score': 0, 'strategy': None})\n",
      "({'name': 'Joaquín PUCP', 'score': 0, 'strategy': None}, {'name': 'Lucciana R', 'score': 0, 'strategy': None})\n",
      "({'name': 'Joaquín PUCP', 'score': 0, 'strategy': None}, {'name': 'Micaela C', 'score': 0, 'strategy': None})\n",
      "({'name': ' Juan de Dios', 'score': 0, 'strategy': None}, {'name': 'Hiroshi E', 'score': 0, 'strategy': None})\n",
      "({'name': ' Juan de Dios', 'score': 0, 'strategy': None}, {'name': 'Bruno U', 'score': 0, 'strategy': None})\n",
      "({'name': ' Juan de Dios', 'score': 0, 'strategy': None}, {'name': 'Jovverson', 'score': 0, 'strategy': None})\n",
      "({'name': ' Juan de Dios', 'score': 0, 'strategy': None}, {'name': 'Lara P', 'score': 0, 'strategy': None})\n",
      "({'name': ' Juan de Dios', 'score': 0, 'strategy': None}, {'name': 'Fernanda T', 'score': 0, 'strategy': None})\n",
      "({'name': ' Juan de Dios', 'score': 0, 'strategy': None}, {'name': 'Lucciana R', 'score': 0, 'strategy': None})\n",
      "({'name': ' Juan de Dios', 'score': 0, 'strategy': None}, {'name': 'Micaela C', 'score': 0, 'strategy': None})\n",
      "({'name': 'Hiroshi E', 'score': 0, 'strategy': None}, {'name': 'Bruno U', 'score': 0, 'strategy': None})\n",
      "({'name': 'Hiroshi E', 'score': 0, 'strategy': None}, {'name': 'Jovverson', 'score': 0, 'strategy': None})\n",
      "({'name': 'Hiroshi E', 'score': 0, 'strategy': None}, {'name': 'Lara P', 'score': 0, 'strategy': None})\n",
      "({'name': 'Hiroshi E', 'score': 0, 'strategy': None}, {'name': 'Fernanda T', 'score': 0, 'strategy': None})\n",
      "({'name': 'Hiroshi E', 'score': 0, 'strategy': None}, {'name': 'Lucciana R', 'score': 0, 'strategy': None})\n",
      "({'name': 'Hiroshi E', 'score': 0, 'strategy': None}, {'name': 'Micaela C', 'score': 0, 'strategy': None})\n",
      "({'name': 'Bruno U', 'score': 0, 'strategy': None}, {'name': 'Jovverson', 'score': 0, 'strategy': None})\n",
      "({'name': 'Bruno U', 'score': 0, 'strategy': None}, {'name': 'Lara P', 'score': 0, 'strategy': None})\n",
      "({'name': 'Bruno U', 'score': 0, 'strategy': None}, {'name': 'Fernanda T', 'score': 0, 'strategy': None})\n",
      "({'name': 'Bruno U', 'score': 0, 'strategy': None}, {'name': 'Lucciana R', 'score': 0, 'strategy': None})\n",
      "({'name': 'Bruno U', 'score': 0, 'strategy': None}, {'name': 'Micaela C', 'score': 0, 'strategy': None})\n",
      "({'name': 'Jovverson', 'score': 0, 'strategy': None}, {'name': 'Lara P', 'score': 0, 'strategy': None})\n",
      "({'name': 'Jovverson', 'score': 0, 'strategy': None}, {'name': 'Fernanda T', 'score': 0, 'strategy': None})\n",
      "({'name': 'Jovverson', 'score': 0, 'strategy': None}, {'name': 'Lucciana R', 'score': 0, 'strategy': None})\n",
      "({'name': 'Jovverson', 'score': 0, 'strategy': None}, {'name': 'Micaela C', 'score': 0, 'strategy': None})\n",
      "({'name': 'Lara P', 'score': 0, 'strategy': None}, {'name': 'Fernanda T', 'score': 0, 'strategy': None})\n",
      "({'name': 'Lara P', 'score': 0, 'strategy': None}, {'name': 'Lucciana R', 'score': 0, 'strategy': None})\n",
      "({'name': 'Lara P', 'score': 0, 'strategy': None}, {'name': 'Micaela C', 'score': 0, 'strategy': None})\n",
      "({'name': 'Fernanda T', 'score': 0, 'strategy': None}, {'name': 'Lucciana R', 'score': 0, 'strategy': None})\n",
      "({'name': 'Fernanda T', 'score': 0, 'strategy': None}, {'name': 'Micaela C', 'score': 0, 'strategy': None})\n",
      "({'name': 'Lucciana R', 'score': 0, 'strategy': None}, {'name': 'Micaela C', 'score': 0, 'strategy': None})\n"
     ]
    }
   ],
   "source": [
    "import itertools\n",
    "\n",
    "# pair is a tuple of dicts\n",
    "for pair in itertools.combinations(society,2):\n",
    "    print(pair)"
   ]
  },
  {
   "cell_type": "markdown",
   "metadata": {},
   "source": [
    "Esto son todos los pares que habrán, jugarán todos contra todos."
   ]
  },
  {
   "cell_type": "code",
   "execution_count": 321,
   "metadata": {
    "id": "cFvBplMV_COC"
   },
   "outputs": [
    {
     "name": "stdout",
     "output_type": "stream",
     "text": [
      "{'name': 'Carlos M', 'score': 0, 'strategy': None} {'name': 'Bruno R', 'score': 0, 'strategy': None}\n",
      "{'name': 'Carlos M', 'score': 0, 'strategy': None} {'name': 'Alfredo A', 'score': 0, 'strategy': None}\n",
      "{'name': 'Carlos M', 'score': 0, 'strategy': None} {'name': 'Romina L', 'score': 0, 'strategy': None}\n",
      "{'name': 'Carlos M', 'score': 0, 'strategy': None} {'name': 'Mori', 'score': 0, 'strategy': None}\n",
      "{'name': 'Carlos M', 'score': 0, 'strategy': None} {'name': 'Sergio T', 'score': 0, 'strategy': None}\n",
      "{'name': 'Carlos M', 'score': 0, 'strategy': None} {'name': 'Diego T', 'score': 0, 'strategy': None}\n",
      "{'name': 'Carlos M', 'score': 0, 'strategy': None} {'name': 'Elizabeth G', 'score': 0, 'strategy': None}\n",
      "{'name': 'Carlos M', 'score': 0, 'strategy': None} {'name': 'Joaquín PUCP', 'score': 0, 'strategy': None}\n",
      "{'name': 'Carlos M', 'score': 0, 'strategy': None} {'name': ' Juan de Dios', 'score': 0, 'strategy': None}\n",
      "{'name': 'Carlos M', 'score': 0, 'strategy': None} {'name': 'Hiroshi E', 'score': 0, 'strategy': None}\n",
      "{'name': 'Carlos M', 'score': 0, 'strategy': None} {'name': 'Bruno U', 'score': 0, 'strategy': None}\n",
      "{'name': 'Carlos M', 'score': 0, 'strategy': None} {'name': 'Jovverson', 'score': 0, 'strategy': None}\n",
      "{'name': 'Carlos M', 'score': 0, 'strategy': None} {'name': 'Lara P', 'score': 0, 'strategy': None}\n",
      "{'name': 'Carlos M', 'score': 0, 'strategy': None} {'name': 'Fernanda T', 'score': 0, 'strategy': None}\n",
      "{'name': 'Carlos M', 'score': 0, 'strategy': None} {'name': 'Lucciana R', 'score': 0, 'strategy': None}\n",
      "{'name': 'Carlos M', 'score': 0, 'strategy': None} {'name': 'Micaela C', 'score': 0, 'strategy': None}\n",
      "{'name': 'Bruno R', 'score': 0, 'strategy': None} {'name': 'Alfredo A', 'score': 0, 'strategy': None}\n",
      "{'name': 'Bruno R', 'score': 0, 'strategy': None} {'name': 'Romina L', 'score': 0, 'strategy': None}\n",
      "{'name': 'Bruno R', 'score': 0, 'strategy': None} {'name': 'Mori', 'score': 0, 'strategy': None}\n",
      "{'name': 'Bruno R', 'score': 0, 'strategy': None} {'name': 'Sergio T', 'score': 0, 'strategy': None}\n",
      "{'name': 'Bruno R', 'score': 0, 'strategy': None} {'name': 'Diego T', 'score': 0, 'strategy': None}\n",
      "{'name': 'Bruno R', 'score': 0, 'strategy': None} {'name': 'Elizabeth G', 'score': 0, 'strategy': None}\n",
      "{'name': 'Bruno R', 'score': 0, 'strategy': None} {'name': 'Joaquín PUCP', 'score': 0, 'strategy': None}\n",
      "{'name': 'Bruno R', 'score': 0, 'strategy': None} {'name': ' Juan de Dios', 'score': 0, 'strategy': None}\n",
      "{'name': 'Bruno R', 'score': 0, 'strategy': None} {'name': 'Hiroshi E', 'score': 0, 'strategy': None}\n",
      "{'name': 'Bruno R', 'score': 0, 'strategy': None} {'name': 'Bruno U', 'score': 0, 'strategy': None}\n",
      "{'name': 'Bruno R', 'score': 0, 'strategy': None} {'name': 'Jovverson', 'score': 0, 'strategy': None}\n",
      "{'name': 'Bruno R', 'score': 0, 'strategy': None} {'name': 'Lara P', 'score': 0, 'strategy': None}\n",
      "{'name': 'Bruno R', 'score': 0, 'strategy': None} {'name': 'Fernanda T', 'score': 0, 'strategy': None}\n",
      "{'name': 'Bruno R', 'score': 0, 'strategy': None} {'name': 'Lucciana R', 'score': 0, 'strategy': None}\n",
      "{'name': 'Bruno R', 'score': 0, 'strategy': None} {'name': 'Micaela C', 'score': 0, 'strategy': None}\n",
      "{'name': 'Alfredo A', 'score': 0, 'strategy': None} {'name': 'Romina L', 'score': 0, 'strategy': None}\n",
      "{'name': 'Alfredo A', 'score': 0, 'strategy': None} {'name': 'Mori', 'score': 0, 'strategy': None}\n",
      "{'name': 'Alfredo A', 'score': 0, 'strategy': None} {'name': 'Sergio T', 'score': 0, 'strategy': None}\n",
      "{'name': 'Alfredo A', 'score': 0, 'strategy': None} {'name': 'Diego T', 'score': 0, 'strategy': None}\n",
      "{'name': 'Alfredo A', 'score': 0, 'strategy': None} {'name': 'Elizabeth G', 'score': 0, 'strategy': None}\n",
      "{'name': 'Alfredo A', 'score': 0, 'strategy': None} {'name': 'Joaquín PUCP', 'score': 0, 'strategy': None}\n",
      "{'name': 'Alfredo A', 'score': 0, 'strategy': None} {'name': ' Juan de Dios', 'score': 0, 'strategy': None}\n",
      "{'name': 'Alfredo A', 'score': 0, 'strategy': None} {'name': 'Hiroshi E', 'score': 0, 'strategy': None}\n",
      "{'name': 'Alfredo A', 'score': 0, 'strategy': None} {'name': 'Bruno U', 'score': 0, 'strategy': None}\n",
      "{'name': 'Alfredo A', 'score': 0, 'strategy': None} {'name': 'Jovverson', 'score': 0, 'strategy': None}\n",
      "{'name': 'Alfredo A', 'score': 0, 'strategy': None} {'name': 'Lara P', 'score': 0, 'strategy': None}\n",
      "{'name': 'Alfredo A', 'score': 0, 'strategy': None} {'name': 'Fernanda T', 'score': 0, 'strategy': None}\n",
      "{'name': 'Alfredo A', 'score': 0, 'strategy': None} {'name': 'Lucciana R', 'score': 0, 'strategy': None}\n",
      "{'name': 'Alfredo A', 'score': 0, 'strategy': None} {'name': 'Micaela C', 'score': 0, 'strategy': None}\n",
      "{'name': 'Romina L', 'score': 0, 'strategy': None} {'name': 'Mori', 'score': 0, 'strategy': None}\n",
      "{'name': 'Romina L', 'score': 0, 'strategy': None} {'name': 'Sergio T', 'score': 0, 'strategy': None}\n",
      "{'name': 'Romina L', 'score': 0, 'strategy': None} {'name': 'Diego T', 'score': 0, 'strategy': None}\n",
      "{'name': 'Romina L', 'score': 0, 'strategy': None} {'name': 'Elizabeth G', 'score': 0, 'strategy': None}\n",
      "{'name': 'Romina L', 'score': 0, 'strategy': None} {'name': 'Joaquín PUCP', 'score': 0, 'strategy': None}\n",
      "{'name': 'Romina L', 'score': 0, 'strategy': None} {'name': ' Juan de Dios', 'score': 0, 'strategy': None}\n",
      "{'name': 'Romina L', 'score': 0, 'strategy': None} {'name': 'Hiroshi E', 'score': 0, 'strategy': None}\n",
      "{'name': 'Romina L', 'score': 0, 'strategy': None} {'name': 'Bruno U', 'score': 0, 'strategy': None}\n",
      "{'name': 'Romina L', 'score': 0, 'strategy': None} {'name': 'Jovverson', 'score': 0, 'strategy': None}\n",
      "{'name': 'Romina L', 'score': 0, 'strategy': None} {'name': 'Lara P', 'score': 0, 'strategy': None}\n",
      "{'name': 'Romina L', 'score': 0, 'strategy': None} {'name': 'Fernanda T', 'score': 0, 'strategy': None}\n",
      "{'name': 'Romina L', 'score': 0, 'strategy': None} {'name': 'Lucciana R', 'score': 0, 'strategy': None}\n",
      "{'name': 'Romina L', 'score': 0, 'strategy': None} {'name': 'Micaela C', 'score': 0, 'strategy': None}\n",
      "{'name': 'Mori', 'score': 0, 'strategy': None} {'name': 'Sergio T', 'score': 0, 'strategy': None}\n",
      "{'name': 'Mori', 'score': 0, 'strategy': None} {'name': 'Diego T', 'score': 0, 'strategy': None}\n",
      "{'name': 'Mori', 'score': 0, 'strategy': None} {'name': 'Elizabeth G', 'score': 0, 'strategy': None}\n",
      "{'name': 'Mori', 'score': 0, 'strategy': None} {'name': 'Joaquín PUCP', 'score': 0, 'strategy': None}\n",
      "{'name': 'Mori', 'score': 0, 'strategy': None} {'name': ' Juan de Dios', 'score': 0, 'strategy': None}\n",
      "{'name': 'Mori', 'score': 0, 'strategy': None} {'name': 'Hiroshi E', 'score': 0, 'strategy': None}\n",
      "{'name': 'Mori', 'score': 0, 'strategy': None} {'name': 'Bruno U', 'score': 0, 'strategy': None}\n",
      "{'name': 'Mori', 'score': 0, 'strategy': None} {'name': 'Jovverson', 'score': 0, 'strategy': None}\n",
      "{'name': 'Mori', 'score': 0, 'strategy': None} {'name': 'Lara P', 'score': 0, 'strategy': None}\n",
      "{'name': 'Mori', 'score': 0, 'strategy': None} {'name': 'Fernanda T', 'score': 0, 'strategy': None}\n",
      "{'name': 'Mori', 'score': 0, 'strategy': None} {'name': 'Lucciana R', 'score': 0, 'strategy': None}\n",
      "{'name': 'Mori', 'score': 0, 'strategy': None} {'name': 'Micaela C', 'score': 0, 'strategy': None}\n",
      "{'name': 'Sergio T', 'score': 0, 'strategy': None} {'name': 'Diego T', 'score': 0, 'strategy': None}\n",
      "{'name': 'Sergio T', 'score': 0, 'strategy': None} {'name': 'Elizabeth G', 'score': 0, 'strategy': None}\n",
      "{'name': 'Sergio T', 'score': 0, 'strategy': None} {'name': 'Joaquín PUCP', 'score': 0, 'strategy': None}\n",
      "{'name': 'Sergio T', 'score': 0, 'strategy': None} {'name': ' Juan de Dios', 'score': 0, 'strategy': None}\n",
      "{'name': 'Sergio T', 'score': 0, 'strategy': None} {'name': 'Hiroshi E', 'score': 0, 'strategy': None}\n",
      "{'name': 'Sergio T', 'score': 0, 'strategy': None} {'name': 'Bruno U', 'score': 0, 'strategy': None}\n",
      "{'name': 'Sergio T', 'score': 0, 'strategy': None} {'name': 'Jovverson', 'score': 0, 'strategy': None}\n",
      "{'name': 'Sergio T', 'score': 0, 'strategy': None} {'name': 'Lara P', 'score': 0, 'strategy': None}\n",
      "{'name': 'Sergio T', 'score': 0, 'strategy': None} {'name': 'Fernanda T', 'score': 0, 'strategy': None}\n",
      "{'name': 'Sergio T', 'score': 0, 'strategy': None} {'name': 'Lucciana R', 'score': 0, 'strategy': None}\n",
      "{'name': 'Sergio T', 'score': 0, 'strategy': None} {'name': 'Micaela C', 'score': 0, 'strategy': None}\n",
      "{'name': 'Diego T', 'score': 0, 'strategy': None} {'name': 'Elizabeth G', 'score': 0, 'strategy': None}\n",
      "{'name': 'Diego T', 'score': 0, 'strategy': None} {'name': 'Joaquín PUCP', 'score': 0, 'strategy': None}\n",
      "{'name': 'Diego T', 'score': 0, 'strategy': None} {'name': ' Juan de Dios', 'score': 0, 'strategy': None}\n",
      "{'name': 'Diego T', 'score': 0, 'strategy': None} {'name': 'Hiroshi E', 'score': 0, 'strategy': None}\n",
      "{'name': 'Diego T', 'score': 0, 'strategy': None} {'name': 'Bruno U', 'score': 0, 'strategy': None}\n",
      "{'name': 'Diego T', 'score': 0, 'strategy': None} {'name': 'Jovverson', 'score': 0, 'strategy': None}\n",
      "{'name': 'Diego T', 'score': 0, 'strategy': None} {'name': 'Lara P', 'score': 0, 'strategy': None}\n",
      "{'name': 'Diego T', 'score': 0, 'strategy': None} {'name': 'Fernanda T', 'score': 0, 'strategy': None}\n",
      "{'name': 'Diego T', 'score': 0, 'strategy': None} {'name': 'Lucciana R', 'score': 0, 'strategy': None}\n",
      "{'name': 'Diego T', 'score': 0, 'strategy': None} {'name': 'Micaela C', 'score': 0, 'strategy': None}\n",
      "{'name': 'Elizabeth G', 'score': 0, 'strategy': None} {'name': 'Joaquín PUCP', 'score': 0, 'strategy': None}\n",
      "{'name': 'Elizabeth G', 'score': 0, 'strategy': None} {'name': ' Juan de Dios', 'score': 0, 'strategy': None}\n",
      "{'name': 'Elizabeth G', 'score': 0, 'strategy': None} {'name': 'Hiroshi E', 'score': 0, 'strategy': None}\n",
      "{'name': 'Elizabeth G', 'score': 0, 'strategy': None} {'name': 'Bruno U', 'score': 0, 'strategy': None}\n",
      "{'name': 'Elizabeth G', 'score': 0, 'strategy': None} {'name': 'Jovverson', 'score': 0, 'strategy': None}\n",
      "{'name': 'Elizabeth G', 'score': 0, 'strategy': None} {'name': 'Lara P', 'score': 0, 'strategy': None}\n",
      "{'name': 'Elizabeth G', 'score': 0, 'strategy': None} {'name': 'Fernanda T', 'score': 0, 'strategy': None}\n",
      "{'name': 'Elizabeth G', 'score': 0, 'strategy': None} {'name': 'Lucciana R', 'score': 0, 'strategy': None}\n",
      "{'name': 'Elizabeth G', 'score': 0, 'strategy': None} {'name': 'Micaela C', 'score': 0, 'strategy': None}\n",
      "{'name': 'Joaquín PUCP', 'score': 0, 'strategy': None} {'name': ' Juan de Dios', 'score': 0, 'strategy': None}\n",
      "{'name': 'Joaquín PUCP', 'score': 0, 'strategy': None} {'name': 'Hiroshi E', 'score': 0, 'strategy': None}\n",
      "{'name': 'Joaquín PUCP', 'score': 0, 'strategy': None} {'name': 'Bruno U', 'score': 0, 'strategy': None}\n",
      "{'name': 'Joaquín PUCP', 'score': 0, 'strategy': None} {'name': 'Jovverson', 'score': 0, 'strategy': None}\n",
      "{'name': 'Joaquín PUCP', 'score': 0, 'strategy': None} {'name': 'Lara P', 'score': 0, 'strategy': None}\n",
      "{'name': 'Joaquín PUCP', 'score': 0, 'strategy': None} {'name': 'Fernanda T', 'score': 0, 'strategy': None}\n",
      "{'name': 'Joaquín PUCP', 'score': 0, 'strategy': None} {'name': 'Lucciana R', 'score': 0, 'strategy': None}\n",
      "{'name': 'Joaquín PUCP', 'score': 0, 'strategy': None} {'name': 'Micaela C', 'score': 0, 'strategy': None}\n",
      "{'name': ' Juan de Dios', 'score': 0, 'strategy': None} {'name': 'Hiroshi E', 'score': 0, 'strategy': None}\n",
      "{'name': ' Juan de Dios', 'score': 0, 'strategy': None} {'name': 'Bruno U', 'score': 0, 'strategy': None}\n",
      "{'name': ' Juan de Dios', 'score': 0, 'strategy': None} {'name': 'Jovverson', 'score': 0, 'strategy': None}\n",
      "{'name': ' Juan de Dios', 'score': 0, 'strategy': None} {'name': 'Lara P', 'score': 0, 'strategy': None}\n",
      "{'name': ' Juan de Dios', 'score': 0, 'strategy': None} {'name': 'Fernanda T', 'score': 0, 'strategy': None}\n",
      "{'name': ' Juan de Dios', 'score': 0, 'strategy': None} {'name': 'Lucciana R', 'score': 0, 'strategy': None}\n",
      "{'name': ' Juan de Dios', 'score': 0, 'strategy': None} {'name': 'Micaela C', 'score': 0, 'strategy': None}\n",
      "{'name': 'Hiroshi E', 'score': 0, 'strategy': None} {'name': 'Bruno U', 'score': 0, 'strategy': None}\n",
      "{'name': 'Hiroshi E', 'score': 0, 'strategy': None} {'name': 'Jovverson', 'score': 0, 'strategy': None}\n",
      "{'name': 'Hiroshi E', 'score': 0, 'strategy': None} {'name': 'Lara P', 'score': 0, 'strategy': None}\n",
      "{'name': 'Hiroshi E', 'score': 0, 'strategy': None} {'name': 'Fernanda T', 'score': 0, 'strategy': None}\n",
      "{'name': 'Hiroshi E', 'score': 0, 'strategy': None} {'name': 'Lucciana R', 'score': 0, 'strategy': None}\n",
      "{'name': 'Hiroshi E', 'score': 0, 'strategy': None} {'name': 'Micaela C', 'score': 0, 'strategy': None}\n",
      "{'name': 'Bruno U', 'score': 0, 'strategy': None} {'name': 'Jovverson', 'score': 0, 'strategy': None}\n",
      "{'name': 'Bruno U', 'score': 0, 'strategy': None} {'name': 'Lara P', 'score': 0, 'strategy': None}\n",
      "{'name': 'Bruno U', 'score': 0, 'strategy': None} {'name': 'Fernanda T', 'score': 0, 'strategy': None}\n",
      "{'name': 'Bruno U', 'score': 0, 'strategy': None} {'name': 'Lucciana R', 'score': 0, 'strategy': None}\n",
      "{'name': 'Bruno U', 'score': 0, 'strategy': None} {'name': 'Micaela C', 'score': 0, 'strategy': None}\n",
      "{'name': 'Jovverson', 'score': 0, 'strategy': None} {'name': 'Lara P', 'score': 0, 'strategy': None}\n",
      "{'name': 'Jovverson', 'score': 0, 'strategy': None} {'name': 'Fernanda T', 'score': 0, 'strategy': None}\n",
      "{'name': 'Jovverson', 'score': 0, 'strategy': None} {'name': 'Lucciana R', 'score': 0, 'strategy': None}\n",
      "{'name': 'Jovverson', 'score': 0, 'strategy': None} {'name': 'Micaela C', 'score': 0, 'strategy': None}\n",
      "{'name': 'Lara P', 'score': 0, 'strategy': None} {'name': 'Fernanda T', 'score': 0, 'strategy': None}\n",
      "{'name': 'Lara P', 'score': 0, 'strategy': None} {'name': 'Lucciana R', 'score': 0, 'strategy': None}\n",
      "{'name': 'Lara P', 'score': 0, 'strategy': None} {'name': 'Micaela C', 'score': 0, 'strategy': None}\n",
      "{'name': 'Fernanda T', 'score': 0, 'strategy': None} {'name': 'Lucciana R', 'score': 0, 'strategy': None}\n",
      "{'name': 'Fernanda T', 'score': 0, 'strategy': None} {'name': 'Micaela C', 'score': 0, 'strategy': None}\n",
      "{'name': 'Lucciana R', 'score': 0, 'strategy': None} {'name': 'Micaela C', 'score': 0, 'strategy': None}\n"
     ]
    }
   ],
   "source": [
    "import itertools\n",
    "\n",
    "# each dict\n",
    "for player1,player2 in itertools.combinations(society,2):\n",
    "    print(player1,player2)"
   ]
  },
  {
   "cell_type": "code",
   "execution_count": 323,
   "metadata": {
    "id": "-xtyPc-5_COC"
   },
   "outputs": [],
   "source": [
    "# resetting society\n",
    "society=[{'name':n,'score':0,'strategy':None} for n in names]\n",
    "\n",
    "# several rounds\n",
    "for aRound in range(100):\n",
    "    \n",
    "    # en each round:\n",
    "    for player1,player2 in itertools.combinations(society,2):\n",
    "        # each chooses strategy\n",
    "        player1['strategy']=choice(strategies)\n",
    "        \n",
    "        player2['strategy']=choice(strategies)\n",
    "        \n",
    "        # result from strategy chosen\n",
    "        result=payoff[player1['strategy'],player2['strategy']]\n",
    "            \n",
    "        # update scores\n",
    "        player1['score']+=result[0]\n",
    "        player2['score']+=result[1]\n",
    "    "
   ]
  },
  {
   "cell_type": "markdown",
   "metadata": {},
   "source": [
    "Hago que jueguen 100 veces."
   ]
  },
  {
   "cell_type": "code",
   "execution_count": 326,
   "metadata": {
    "id": "AtT2diWE_COD"
   },
   "outputs": [
    {
     "data": {
      "text/plain": [
       "[{'name': 'Carlos M', 'score': 513, 'strategy': 'Rock'},\n",
       " {'name': 'Bruno R', 'score': 535, 'strategy': 'Paper'},\n",
       " {'name': 'Alfredo A', 'score': 507, 'strategy': 'Scissors'},\n",
       " {'name': 'Romina L', 'score': 517, 'strategy': 'Rock'},\n",
       " {'name': 'Mori', 'score': 537, 'strategy': 'Scissors'},\n",
       " {'name': 'Sergio T', 'score': 547, 'strategy': 'Scissors'},\n",
       " {'name': 'Diego T', 'score': 527, 'strategy': 'Scissors'},\n",
       " {'name': 'Elizabeth G', 'score': 528, 'strategy': 'Scissors'},\n",
       " {'name': 'Joaquín PUCP', 'score': 578, 'strategy': 'Scissors'},\n",
       " {'name': ' Juan de Dios', 'score': 538, 'strategy': 'Scissors'},\n",
       " {'name': 'Hiroshi E', 'score': 525, 'strategy': 'Rock'},\n",
       " {'name': 'Bruno U', 'score': 531, 'strategy': 'Rock'},\n",
       " {'name': 'Jovverson', 'score': 519, 'strategy': 'Scissors'},\n",
       " {'name': 'Lara P', 'score': 523, 'strategy': 'Scissors'},\n",
       " {'name': 'Fernanda T', 'score': 525, 'strategy': 'Rock'},\n",
       " {'name': 'Lucciana R', 'score': 533, 'strategy': 'Paper'},\n",
       " {'name': 'Micaela C', 'score': 536, 'strategy': 'Paper'}]"
      ]
     },
     "execution_count": 326,
     "metadata": {},
     "output_type": "execute_result"
    }
   ],
   "source": [
    "# final situation\n",
    "society"
   ]
  },
  {
   "cell_type": "markdown",
   "metadata": {},
   "source": [
    "Resultado final y lo mandaamos al df"
   ]
  },
  {
   "cell_type": "code",
   "execution_count": 329,
   "metadata": {
    "id": "rVcFgFF4_COD"
   },
   "outputs": [
    {
     "data": {
      "text/html": [
       "<div>\n",
       "<style scoped>\n",
       "    .dataframe tbody tr th:only-of-type {\n",
       "        vertical-align: middle;\n",
       "    }\n",
       "\n",
       "    .dataframe tbody tr th {\n",
       "        vertical-align: top;\n",
       "    }\n",
       "\n",
       "    .dataframe thead th {\n",
       "        text-align: right;\n",
       "    }\n",
       "</style>\n",
       "<table border=\"1\" class=\"dataframe\">\n",
       "  <thead>\n",
       "    <tr style=\"text-align: right;\">\n",
       "      <th></th>\n",
       "      <th>name</th>\n",
       "      <th>score</th>\n",
       "      <th>strategy</th>\n",
       "    </tr>\n",
       "  </thead>\n",
       "  <tbody>\n",
       "    <tr>\n",
       "      <th>0</th>\n",
       "      <td>Carlos M</td>\n",
       "      <td>513</td>\n",
       "      <td>Rock</td>\n",
       "    </tr>\n",
       "    <tr>\n",
       "      <th>1</th>\n",
       "      <td>Bruno R</td>\n",
       "      <td>535</td>\n",
       "      <td>Paper</td>\n",
       "    </tr>\n",
       "    <tr>\n",
       "      <th>2</th>\n",
       "      <td>Alfredo A</td>\n",
       "      <td>507</td>\n",
       "      <td>Scissors</td>\n",
       "    </tr>\n",
       "    <tr>\n",
       "      <th>3</th>\n",
       "      <td>Romina L</td>\n",
       "      <td>517</td>\n",
       "      <td>Rock</td>\n",
       "    </tr>\n",
       "    <tr>\n",
       "      <th>4</th>\n",
       "      <td>Mori</td>\n",
       "      <td>537</td>\n",
       "      <td>Scissors</td>\n",
       "    </tr>\n",
       "    <tr>\n",
       "      <th>5</th>\n",
       "      <td>Sergio T</td>\n",
       "      <td>547</td>\n",
       "      <td>Scissors</td>\n",
       "    </tr>\n",
       "    <tr>\n",
       "      <th>6</th>\n",
       "      <td>Diego T</td>\n",
       "      <td>527</td>\n",
       "      <td>Scissors</td>\n",
       "    </tr>\n",
       "    <tr>\n",
       "      <th>7</th>\n",
       "      <td>Elizabeth G</td>\n",
       "      <td>528</td>\n",
       "      <td>Scissors</td>\n",
       "    </tr>\n",
       "    <tr>\n",
       "      <th>8</th>\n",
       "      <td>Joaquín PUCP</td>\n",
       "      <td>578</td>\n",
       "      <td>Scissors</td>\n",
       "    </tr>\n",
       "    <tr>\n",
       "      <th>9</th>\n",
       "      <td>Juan de Dios</td>\n",
       "      <td>538</td>\n",
       "      <td>Scissors</td>\n",
       "    </tr>\n",
       "    <tr>\n",
       "      <th>10</th>\n",
       "      <td>Hiroshi E</td>\n",
       "      <td>525</td>\n",
       "      <td>Rock</td>\n",
       "    </tr>\n",
       "    <tr>\n",
       "      <th>11</th>\n",
       "      <td>Bruno U</td>\n",
       "      <td>531</td>\n",
       "      <td>Rock</td>\n",
       "    </tr>\n",
       "    <tr>\n",
       "      <th>12</th>\n",
       "      <td>Jovverson</td>\n",
       "      <td>519</td>\n",
       "      <td>Scissors</td>\n",
       "    </tr>\n",
       "    <tr>\n",
       "      <th>13</th>\n",
       "      <td>Lara P</td>\n",
       "      <td>523</td>\n",
       "      <td>Scissors</td>\n",
       "    </tr>\n",
       "    <tr>\n",
       "      <th>14</th>\n",
       "      <td>Fernanda T</td>\n",
       "      <td>525</td>\n",
       "      <td>Rock</td>\n",
       "    </tr>\n",
       "    <tr>\n",
       "      <th>15</th>\n",
       "      <td>Lucciana R</td>\n",
       "      <td>533</td>\n",
       "      <td>Paper</td>\n",
       "    </tr>\n",
       "    <tr>\n",
       "      <th>16</th>\n",
       "      <td>Micaela C</td>\n",
       "      <td>536</td>\n",
       "      <td>Paper</td>\n",
       "    </tr>\n",
       "  </tbody>\n",
       "</table>\n",
       "</div>"
      ],
      "text/plain": [
       "             name  score  strategy\n",
       "0        Carlos M    513      Rock\n",
       "1         Bruno R    535     Paper\n",
       "2       Alfredo A    507  Scissors\n",
       "3        Romina L    517      Rock\n",
       "4            Mori    537  Scissors\n",
       "5        Sergio T    547  Scissors\n",
       "6         Diego T    527  Scissors\n",
       "7     Elizabeth G    528  Scissors\n",
       "8    Joaquín PUCP    578  Scissors\n",
       "9    Juan de Dios    538  Scissors\n",
       "10      Hiroshi E    525      Rock\n",
       "11        Bruno U    531      Rock\n",
       "12      Jovverson    519  Scissors\n",
       "13         Lara P    523  Scissors\n",
       "14     Fernanda T    525      Rock\n",
       "15     Lucciana R    533     Paper\n",
       "16      Micaela C    536     Paper"
      ]
     },
     "execution_count": 329,
     "metadata": {},
     "output_type": "execute_result"
    }
   ],
   "source": [
    "# as a data frame\n",
    "socialResults=pd.DataFrame(society)\n",
    "socialResults"
   ]
  },
  {
   "cell_type": "markdown",
   "metadata": {},
   "source": [
    "Quién ganó y qué se hizo más."
   ]
  },
  {
   "cell_type": "code",
   "execution_count": 332,
   "metadata": {
    "id": "ttej-ElI_COD"
   },
   "outputs": [
    {
     "data": {
      "text/html": [
       "<div>\n",
       "<style scoped>\n",
       "    .dataframe tbody tr th:only-of-type {\n",
       "        vertical-align: middle;\n",
       "    }\n",
       "\n",
       "    .dataframe tbody tr th {\n",
       "        vertical-align: top;\n",
       "    }\n",
       "\n",
       "    .dataframe thead th {\n",
       "        text-align: right;\n",
       "    }\n",
       "</style>\n",
       "<table border=\"1\" class=\"dataframe\">\n",
       "  <thead>\n",
       "    <tr style=\"text-align: right;\">\n",
       "      <th></th>\n",
       "      <th>name</th>\n",
       "      <th>score</th>\n",
       "      <th>strategy</th>\n",
       "    </tr>\n",
       "  </thead>\n",
       "  <tbody>\n",
       "    <tr>\n",
       "      <th>8</th>\n",
       "      <td>Joaquín PUCP</td>\n",
       "      <td>578</td>\n",
       "      <td>Scissors</td>\n",
       "    </tr>\n",
       "  </tbody>\n",
       "</table>\n",
       "</div>"
      ],
      "text/plain": [
       "           name  score  strategy\n",
       "8  Joaquín PUCP    578  Scissors"
      ]
     },
     "execution_count": 332,
     "metadata": {},
     "output_type": "execute_result"
    }
   ],
   "source": [
    "winnerScore=socialResults.score.max()\n",
    "\n",
    "#social outcome\n",
    "socialResults[socialResults.score==winnerScore]"
   ]
  }
 ],
 "metadata": {
  "colab": {
   "provenance": []
  },
  "hide_input": false,
  "kernelspec": {
   "display_name": "Python 3 (ipykernel)",
   "language": "python",
   "name": "python3"
  },
  "language_info": {
   "codemirror_mode": {
    "name": "ipython",
    "version": 3
   },
   "file_extension": ".py",
   "mimetype": "text/x-python",
   "name": "python",
   "nbconvert_exporter": "python",
   "pygments_lexer": "ipython3",
   "version": "3.12.4"
  }
 },
 "nbformat": 4,
 "nbformat_minor": 4
}
